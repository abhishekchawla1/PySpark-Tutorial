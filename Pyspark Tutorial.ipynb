{
 "cells": [
  {
   "cell_type": "code",
   "execution_count": 1,
   "id": "ce2b9309",
   "metadata": {},
   "outputs": [
    {
     "name": "stdout",
     "output_type": "stream",
     "text": [
      "Defaulting to user installation because normal site-packages is not writeable\n",
      "Collecting pyspark\n",
      "  Downloading pyspark-3.5.1.tar.gz (317.0 MB)\n",
      "     -------------------------------------- 317.0/317.0 MB 1.1 MB/s eta 0:00:00\n",
      "  Preparing metadata (setup.py): started\n",
      "  Preparing metadata (setup.py): finished with status 'done'\n",
      "Collecting py4j==0.10.9.7\n",
      "  Downloading py4j-0.10.9.7-py2.py3-none-any.whl (200 kB)\n",
      "     -------------------------------------- 200.5/200.5 kB 2.4 MB/s eta 0:00:00\n",
      "Building wheels for collected packages: pyspark\n",
      "  Building wheel for pyspark (setup.py): started\n",
      "  Building wheel for pyspark (setup.py): still running...\n",
      "  Building wheel for pyspark (setup.py): finished with status 'done'\n",
      "  Created wheel for pyspark: filename=pyspark-3.5.1-py2.py3-none-any.whl size=317488537 sha256=962d5f66e126623be5d18aeb4aa8f0f24c244db35bd90ad2db4cd4e3116af428\n",
      "  Stored in directory: c:\\users\\asus\\appdata\\local\\pip\\cache\\wheels\\22\\f3\\c0\\49d7c304ee9ebfd58d8417a140fa93a306ea3d28d19e9af018\n",
      "Successfully built pyspark\n",
      "Installing collected packages: py4j, pyspark\n",
      "Successfully installed py4j-0.10.9.7 pyspark-3.5.1\n"
     ]
    }
   ],
   "source": [
    "!pip install pyspark"
   ]
  },
  {
   "cell_type": "code",
   "execution_count": 2,
   "id": "eae89421",
   "metadata": {},
   "outputs": [],
   "source": [
    "import pyspark"
   ]
  },
  {
   "cell_type": "code",
   "execution_count": 3,
   "id": "346980cd",
   "metadata": {},
   "outputs": [],
   "source": [
    "from pyspark.sql import SparkSession"
   ]
  },
  {
   "cell_type": "code",
   "execution_count": 5,
   "id": "5714c020",
   "metadata": {},
   "outputs": [],
   "source": [
    "spark=SparkSession.builder.appName('Practice').getOrCreate()"
   ]
  },
  {
   "cell_type": "code",
   "execution_count": 6,
   "id": "f2078817",
   "metadata": {},
   "outputs": [
    {
     "data": {
      "text/html": [
       "\n",
       "            <div>\n",
       "                <p><b>SparkSession - in-memory</b></p>\n",
       "                \n",
       "        <div>\n",
       "            <p><b>SparkContext</b></p>\n",
       "\n",
       "            <p><a href=\"http://Abhishek:4040\">Spark UI</a></p>\n",
       "\n",
       "            <dl>\n",
       "              <dt>Version</dt>\n",
       "                <dd><code>v3.5.1</code></dd>\n",
       "              <dt>Master</dt>\n",
       "                <dd><code>local[*]</code></dd>\n",
       "              <dt>AppName</dt>\n",
       "                <dd><code>Practice</code></dd>\n",
       "            </dl>\n",
       "        </div>\n",
       "        \n",
       "            </div>\n",
       "        "
      ],
      "text/plain": [
       "<pyspark.sql.session.SparkSession at 0x1a7e5644040>"
      ]
     },
     "execution_count": 6,
     "metadata": {},
     "output_type": "execute_result"
    }
   ],
   "source": [
    "spark"
   ]
  },
  {
   "cell_type": "code",
   "execution_count": 8,
   "id": "050a68f7",
   "metadata": {},
   "outputs": [],
   "source": [
    "df=spark.read.csv(r\"G:\\datasets\\1. Weather Data.csv\")"
   ]
  },
  {
   "cell_type": "code",
   "execution_count": 9,
   "id": "42bd5cb2",
   "metadata": {},
   "outputs": [
    {
     "data": {
      "text/plain": [
       "DataFrame[_c0: string, _c1: string, _c2: string, _c3: string, _c4: string, _c5: string, _c6: string, _c7: string]"
      ]
     },
     "execution_count": 9,
     "metadata": {},
     "output_type": "execute_result"
    }
   ],
   "source": [
    "df"
   ]
  },
  {
   "cell_type": "code",
   "execution_count": 10,
   "id": "f9c0fbf5",
   "metadata": {},
   "outputs": [
    {
     "name": "stdout",
     "output_type": "stream",
     "text": [
      "+--------------+------+----------------+---------+---------------+-------------+---------+--------------------+\n",
      "|           _c0|   _c1|             _c2|      _c3|            _c4|          _c5|      _c6|                 _c7|\n",
      "+--------------+------+----------------+---------+---------------+-------------+---------+--------------------+\n",
      "|     Date/Time|Temp_C|Dew Point Temp_C|Rel Hum_%|Wind Speed_km/h|Visibility_km|Press_kPa|             Weather|\n",
      "| 1/1/2012 0:00|  -1.8|            -3.9|       86|              4|            8|   101.24|                 Fog|\n",
      "| 1/1/2012 1:00|  -1.8|            -3.7|       87|              4|            8|   101.24|                 Fog|\n",
      "| 1/1/2012 2:00|  -1.8|            -3.4|       89|              7|            4|   101.26|Freezing Drizzle,Fog|\n",
      "| 1/1/2012 3:00|  -1.5|            -3.2|       88|              6|            4|   101.27|Freezing Drizzle,Fog|\n",
      "| 1/1/2012 4:00|  -1.5|            -3.3|       88|              7|          4.8|   101.23|                 Fog|\n",
      "| 1/1/2012 5:00|  -1.4|            -3.3|       87|              9|          6.4|   101.27|                 Fog|\n",
      "| 1/1/2012 6:00|  -1.5|            -3.1|       89|              7|          6.4|   101.29|                 Fog|\n",
      "| 1/1/2012 7:00|  -1.4|            -3.6|       85|              7|            8|   101.26|                 Fog|\n",
      "| 1/1/2012 8:00|  -1.4|            -3.6|       85|              9|            8|   101.23|                 Fog|\n",
      "| 1/1/2012 9:00|  -1.3|            -3.1|       88|             15|            4|    101.2|                 Fog|\n",
      "|1/1/2012 10:00|    -1|            -2.3|       91|              9|          1.2|   101.15|                 Fog|\n",
      "|1/1/2012 11:00|  -0.5|            -2.1|       89|              7|            4|   100.98|                 Fog|\n",
      "|1/1/2012 12:00|  -0.2|              -2|       88|              9|          4.8|   100.79|                 Fog|\n",
      "|1/1/2012 13:00|   0.2|            -1.7|       87|             13|          4.8|   100.58|                 Fog|\n",
      "|1/1/2012 14:00|   0.8|            -1.1|       87|             20|          4.8|   100.31|                 Fog|\n",
      "|1/1/2012 15:00|   1.8|            -0.4|       85|             22|          6.4|   100.07|                 Fog|\n",
      "|1/1/2012 16:00|   2.6|            -0.2|       82|             13|         12.9|    99.93|       Mostly Cloudy|\n",
      "|1/1/2012 17:00|     3|               0|       81|             13|         16.1|    99.81|              Cloudy|\n",
      "|1/1/2012 18:00|   3.8|               1|       82|             15|         12.9|    99.74|                Rain|\n",
      "+--------------+------+----------------+---------+---------------+-------------+---------+--------------------+\n",
      "only showing top 20 rows\n",
      "\n"
     ]
    }
   ],
   "source": [
    "df.show()"
   ]
  },
  {
   "cell_type": "code",
   "execution_count": 12,
   "id": "e42be7f4",
   "metadata": {},
   "outputs": [],
   "source": [
    "d=spark.read.option('header',True).csv(r\"G:\\datasets\\1. Weather Data.csv\")"
   ]
  },
  {
   "cell_type": "code",
   "execution_count": 13,
   "id": "27708d00",
   "metadata": {},
   "outputs": [
    {
     "data": {
      "text/plain": [
       "DataFrame[Date/Time: string, Temp_C: string, Dew Point Temp_C: string, Rel Hum_%: string, Wind Speed_km/h: string, Visibility_km: string, Press_kPa: string, Weather: string]"
      ]
     },
     "execution_count": 13,
     "metadata": {},
     "output_type": "execute_result"
    }
   ],
   "source": [
    "d"
   ]
  },
  {
   "cell_type": "code",
   "execution_count": 14,
   "id": "55fe135f",
   "metadata": {},
   "outputs": [
    {
     "name": "stdout",
     "output_type": "stream",
     "text": [
      "+--------------+------+----------------+---------+---------------+-------------+---------+--------------------+\n",
      "|     Date/Time|Temp_C|Dew Point Temp_C|Rel Hum_%|Wind Speed_km/h|Visibility_km|Press_kPa|             Weather|\n",
      "+--------------+------+----------------+---------+---------------+-------------+---------+--------------------+\n",
      "| 1/1/2012 0:00|  -1.8|            -3.9|       86|              4|            8|   101.24|                 Fog|\n",
      "| 1/1/2012 1:00|  -1.8|            -3.7|       87|              4|            8|   101.24|                 Fog|\n",
      "| 1/1/2012 2:00|  -1.8|            -3.4|       89|              7|            4|   101.26|Freezing Drizzle,Fog|\n",
      "| 1/1/2012 3:00|  -1.5|            -3.2|       88|              6|            4|   101.27|Freezing Drizzle,Fog|\n",
      "| 1/1/2012 4:00|  -1.5|            -3.3|       88|              7|          4.8|   101.23|                 Fog|\n",
      "| 1/1/2012 5:00|  -1.4|            -3.3|       87|              9|          6.4|   101.27|                 Fog|\n",
      "| 1/1/2012 6:00|  -1.5|            -3.1|       89|              7|          6.4|   101.29|                 Fog|\n",
      "| 1/1/2012 7:00|  -1.4|            -3.6|       85|              7|            8|   101.26|                 Fog|\n",
      "| 1/1/2012 8:00|  -1.4|            -3.6|       85|              9|            8|   101.23|                 Fog|\n",
      "| 1/1/2012 9:00|  -1.3|            -3.1|       88|             15|            4|    101.2|                 Fog|\n",
      "|1/1/2012 10:00|    -1|            -2.3|       91|              9|          1.2|   101.15|                 Fog|\n",
      "|1/1/2012 11:00|  -0.5|            -2.1|       89|              7|            4|   100.98|                 Fog|\n",
      "|1/1/2012 12:00|  -0.2|              -2|       88|              9|          4.8|   100.79|                 Fog|\n",
      "|1/1/2012 13:00|   0.2|            -1.7|       87|             13|          4.8|   100.58|                 Fog|\n",
      "|1/1/2012 14:00|   0.8|            -1.1|       87|             20|          4.8|   100.31|                 Fog|\n",
      "|1/1/2012 15:00|   1.8|            -0.4|       85|             22|          6.4|   100.07|                 Fog|\n",
      "|1/1/2012 16:00|   2.6|            -0.2|       82|             13|         12.9|    99.93|       Mostly Cloudy|\n",
      "|1/1/2012 17:00|     3|               0|       81|             13|         16.1|    99.81|              Cloudy|\n",
      "|1/1/2012 18:00|   3.8|               1|       82|             15|         12.9|    99.74|                Rain|\n",
      "|1/1/2012 19:00|   3.1|             1.3|       88|             15|         12.9|    99.68|                Rain|\n",
      "+--------------+------+----------------+---------+---------------+-------------+---------+--------------------+\n",
      "only showing top 20 rows\n",
      "\n"
     ]
    }
   ],
   "source": [
    "d.show()"
   ]
  },
  {
   "cell_type": "code",
   "execution_count": 15,
   "id": "bb31969e",
   "metadata": {},
   "outputs": [
    {
     "data": {
      "text/plain": [
       "pyspark.sql.dataframe.DataFrame"
      ]
     },
     "execution_count": 15,
     "metadata": {},
     "output_type": "execute_result"
    }
   ],
   "source": [
    "type(d)"
   ]
  },
  {
   "cell_type": "code",
   "execution_count": 19,
   "id": "17962bbe",
   "metadata": {},
   "outputs": [
    {
     "data": {
      "text/plain": [
       "[Row(Date/Time='1/1/2012 0:00', Temp_C='-1.8', Dew Point Temp_C='-3.9', Rel Hum_%='86', Wind Speed_km/h='4', Visibility_km='8', Press_kPa='101.24', Weather='Fog'),\n",
       " Row(Date/Time='1/1/2012 1:00', Temp_C='-1.8', Dew Point Temp_C='-3.7', Rel Hum_%='87', Wind Speed_km/h='4', Visibility_km='8', Press_kPa='101.24', Weather='Fog'),\n",
       " Row(Date/Time='1/1/2012 2:00', Temp_C='-1.8', Dew Point Temp_C='-3.4', Rel Hum_%='89', Wind Speed_km/h='7', Visibility_km='4', Press_kPa='101.26', Weather='Freezing Drizzle,Fog'),\n",
       " Row(Date/Time='1/1/2012 3:00', Temp_C='-1.5', Dew Point Temp_C='-3.2', Rel Hum_%='88', Wind Speed_km/h='6', Visibility_km='4', Press_kPa='101.27', Weather='Freezing Drizzle,Fog'),\n",
       " Row(Date/Time='1/1/2012 4:00', Temp_C='-1.5', Dew Point Temp_C='-3.3', Rel Hum_%='88', Wind Speed_km/h='7', Visibility_km='4.8', Press_kPa='101.23', Weather='Fog')]"
      ]
     },
     "execution_count": 19,
     "metadata": {},
     "output_type": "execute_result"
    }
   ],
   "source": [
    "d.head(5)"
   ]
  },
  {
   "cell_type": "code",
   "execution_count": 20,
   "id": "57a23c4e",
   "metadata": {},
   "outputs": [
    {
     "name": "stdout",
     "output_type": "stream",
     "text": [
      "root\n",
      " |-- Date/Time: string (nullable = true)\n",
      " |-- Temp_C: string (nullable = true)\n",
      " |-- Dew Point Temp_C: string (nullable = true)\n",
      " |-- Rel Hum_%: string (nullable = true)\n",
      " |-- Wind Speed_km/h: string (nullable = true)\n",
      " |-- Visibility_km: string (nullable = true)\n",
      " |-- Press_kPa: string (nullable = true)\n",
      " |-- Weather: string (nullable = true)\n",
      "\n"
     ]
    }
   ],
   "source": [
    "d.printSchema()"
   ]
  },
  {
   "cell_type": "code",
   "execution_count": 21,
   "id": "a1cefd62",
   "metadata": {},
   "outputs": [],
   "source": [
    "d2=spark.read.option('header',True).csv(r\"G:\\datasets\\1. Weather Data.csv\",inferSchema=True)"
   ]
  },
  {
   "cell_type": "code",
   "execution_count": 22,
   "id": "b2d964a0",
   "metadata": {},
   "outputs": [
    {
     "name": "stdout",
     "output_type": "stream",
     "text": [
      "root\n",
      " |-- Date/Time: string (nullable = true)\n",
      " |-- Temp_C: double (nullable = true)\n",
      " |-- Dew Point Temp_C: double (nullable = true)\n",
      " |-- Rel Hum_%: integer (nullable = true)\n",
      " |-- Wind Speed_km/h: integer (nullable = true)\n",
      " |-- Visibility_km: double (nullable = true)\n",
      " |-- Press_kPa: double (nullable = true)\n",
      " |-- Weather: string (nullable = true)\n",
      "\n"
     ]
    }
   ],
   "source": [
    "d2.printSchema()"
   ]
  },
  {
   "cell_type": "code",
   "execution_count": 23,
   "id": "881b0cf6",
   "metadata": {},
   "outputs": [
    {
     "data": {
      "text/plain": [
       "['Date/Time',\n",
       " 'Temp_C',\n",
       " 'Dew Point Temp_C',\n",
       " 'Rel Hum_%',\n",
       " 'Wind Speed_km/h',\n",
       " 'Visibility_km',\n",
       " 'Press_kPa',\n",
       " 'Weather']"
      ]
     },
     "execution_count": 23,
     "metadata": {},
     "output_type": "execute_result"
    }
   ],
   "source": [
    "d2.columns"
   ]
  },
  {
   "cell_type": "code",
   "execution_count": 24,
   "id": "c920e661",
   "metadata": {},
   "outputs": [
    {
     "data": {
      "text/plain": [
       "[Row(Date/Time='1/1/2012 0:00', Temp_C=-1.8, Dew Point Temp_C=-3.9, Rel Hum_%=86, Wind Speed_km/h=4, Visibility_km=8.0, Press_kPa=101.24, Weather='Fog'),\n",
       " Row(Date/Time='1/1/2012 1:00', Temp_C=-1.8, Dew Point Temp_C=-3.7, Rel Hum_%=87, Wind Speed_km/h=4, Visibility_km=8.0, Press_kPa=101.24, Weather='Fog'),\n",
       " Row(Date/Time='1/1/2012 2:00', Temp_C=-1.8, Dew Point Temp_C=-3.4, Rel Hum_%=89, Wind Speed_km/h=7, Visibility_km=4.0, Press_kPa=101.26, Weather='Freezing Drizzle,Fog')]"
      ]
     },
     "execution_count": 24,
     "metadata": {},
     "output_type": "execute_result"
    }
   ],
   "source": [
    "d2.head(3)"
   ]
  },
  {
   "cell_type": "code",
   "execution_count": 26,
   "id": "353e62e1",
   "metadata": {},
   "outputs": [
    {
     "name": "stdout",
     "output_type": "stream",
     "text": [
      "+--------------+------+----------------+---------+---------------+-------------+---------+--------------------+\n",
      "|     Date/Time|Temp_C|Dew Point Temp_C|Rel Hum_%|Wind Speed_km/h|Visibility_km|Press_kPa|             Weather|\n",
      "+--------------+------+----------------+---------+---------------+-------------+---------+--------------------+\n",
      "| 1/1/2012 0:00|  -1.8|            -3.9|       86|              4|          8.0|   101.24|                 Fog|\n",
      "| 1/1/2012 1:00|  -1.8|            -3.7|       87|              4|          8.0|   101.24|                 Fog|\n",
      "| 1/1/2012 2:00|  -1.8|            -3.4|       89|              7|          4.0|   101.26|Freezing Drizzle,Fog|\n",
      "| 1/1/2012 3:00|  -1.5|            -3.2|       88|              6|          4.0|   101.27|Freezing Drizzle,Fog|\n",
      "| 1/1/2012 4:00|  -1.5|            -3.3|       88|              7|          4.8|   101.23|                 Fog|\n",
      "| 1/1/2012 5:00|  -1.4|            -3.3|       87|              9|          6.4|   101.27|                 Fog|\n",
      "| 1/1/2012 6:00|  -1.5|            -3.1|       89|              7|          6.4|   101.29|                 Fog|\n",
      "| 1/1/2012 7:00|  -1.4|            -3.6|       85|              7|          8.0|   101.26|                 Fog|\n",
      "| 1/1/2012 8:00|  -1.4|            -3.6|       85|              9|          8.0|   101.23|                 Fog|\n",
      "| 1/1/2012 9:00|  -1.3|            -3.1|       88|             15|          4.0|    101.2|                 Fog|\n",
      "|1/1/2012 10:00|  -1.0|            -2.3|       91|              9|          1.2|   101.15|                 Fog|\n",
      "|1/1/2012 11:00|  -0.5|            -2.1|       89|              7|          4.0|   100.98|                 Fog|\n",
      "|1/1/2012 12:00|  -0.2|            -2.0|       88|              9|          4.8|   100.79|                 Fog|\n",
      "|1/1/2012 13:00|   0.2|            -1.7|       87|             13|          4.8|   100.58|                 Fog|\n",
      "|1/1/2012 14:00|   0.8|            -1.1|       87|             20|          4.8|   100.31|                 Fog|\n",
      "|1/1/2012 15:00|   1.8|            -0.4|       85|             22|          6.4|   100.07|                 Fog|\n",
      "|1/1/2012 16:00|   2.6|            -0.2|       82|             13|         12.9|    99.93|       Mostly Cloudy|\n",
      "|1/1/2012 17:00|   3.0|             0.0|       81|             13|         16.1|    99.81|              Cloudy|\n",
      "|1/1/2012 18:00|   3.8|             1.0|       82|             15|         12.9|    99.74|                Rain|\n",
      "|1/1/2012 19:00|   3.1|             1.3|       88|             15|         12.9|    99.68|                Rain|\n",
      "+--------------+------+----------------+---------+---------------+-------------+---------+--------------------+\n",
      "only showing top 20 rows\n",
      "\n"
     ]
    }
   ],
   "source": [
    "d2.show()"
   ]
  },
  {
   "cell_type": "code",
   "execution_count": 27,
   "id": "574cae5a",
   "metadata": {},
   "outputs": [
    {
     "data": {
      "text/plain": [
       "DataFrame[Temp_C: double]"
      ]
     },
     "execution_count": 27,
     "metadata": {},
     "output_type": "execute_result"
    }
   ],
   "source": [
    "d2.select('Temp_C')"
   ]
  },
  {
   "cell_type": "code",
   "execution_count": 29,
   "id": "ac5bc3fa",
   "metadata": {},
   "outputs": [
    {
     "name": "stdout",
     "output_type": "stream",
     "text": [
      "+------+\n",
      "|Temp_C|\n",
      "+------+\n",
      "|  -1.8|\n",
      "|  -1.8|\n",
      "|  -1.8|\n",
      "|  -1.5|\n",
      "|  -1.5|\n",
      "|  -1.4|\n",
      "|  -1.5|\n",
      "|  -1.4|\n",
      "|  -1.4|\n",
      "|  -1.3|\n",
      "|  -1.0|\n",
      "|  -0.5|\n",
      "|  -0.2|\n",
      "|   0.2|\n",
      "|   0.8|\n",
      "|   1.8|\n",
      "|   2.6|\n",
      "|   3.0|\n",
      "|   3.8|\n",
      "|   3.1|\n",
      "+------+\n",
      "only showing top 20 rows\n",
      "\n"
     ]
    }
   ],
   "source": [
    "d2.select('Temp_C').show() "
   ]
  },
  {
   "cell_type": "code",
   "execution_count": 30,
   "id": "c679127d",
   "metadata": {},
   "outputs": [
    {
     "data": {
      "text/plain": [
       "DataFrame[Temp_C: double, Rel Hum_%: int]"
      ]
     },
     "execution_count": 30,
     "metadata": {},
     "output_type": "execute_result"
    }
   ],
   "source": [
    "d2.select(['Temp_C','Rel Hum_%'])"
   ]
  },
  {
   "cell_type": "code",
   "execution_count": 31,
   "id": "3c689c1e",
   "metadata": {},
   "outputs": [
    {
     "name": "stdout",
     "output_type": "stream",
     "text": [
      "+------+---------+\n",
      "|Temp_C|Rel Hum_%|\n",
      "+------+---------+\n",
      "|  -1.8|       86|\n",
      "|  -1.8|       87|\n",
      "|  -1.8|       89|\n",
      "|  -1.5|       88|\n",
      "|  -1.5|       88|\n",
      "|  -1.4|       87|\n",
      "|  -1.5|       89|\n",
      "|  -1.4|       85|\n",
      "|  -1.4|       85|\n",
      "|  -1.3|       88|\n",
      "|  -1.0|       91|\n",
      "|  -0.5|       89|\n",
      "|  -0.2|       88|\n",
      "|   0.2|       87|\n",
      "|   0.8|       87|\n",
      "|   1.8|       85|\n",
      "|   2.6|       82|\n",
      "|   3.0|       81|\n",
      "|   3.8|       82|\n",
      "|   3.1|       88|\n",
      "+------+---------+\n",
      "only showing top 20 rows\n",
      "\n"
     ]
    }
   ],
   "source": [
    "d2.select(['Temp_C','Rel Hum_%']).show()"
   ]
  },
  {
   "cell_type": "code",
   "execution_count": 32,
   "id": "eaef3f0f",
   "metadata": {},
   "outputs": [
    {
     "data": {
      "text/plain": [
       "[('Date/Time', 'string'),\n",
       " ('Temp_C', 'double'),\n",
       " ('Dew Point Temp_C', 'double'),\n",
       " ('Rel Hum_%', 'int'),\n",
       " ('Wind Speed_km/h', 'int'),\n",
       " ('Visibility_km', 'double'),\n",
       " ('Press_kPa', 'double'),\n",
       " ('Weather', 'string')]"
      ]
     },
     "execution_count": 32,
     "metadata": {},
     "output_type": "execute_result"
    }
   ],
   "source": [
    "d2.dtypes"
   ]
  },
  {
   "cell_type": "code",
   "execution_count": 34,
   "id": "c45ef02c",
   "metadata": {},
   "outputs": [
    {
     "data": {
      "text/plain": [
       "DataFrame[summary: string, Date/Time: string, Temp_C: string, Dew Point Temp_C: string, Rel Hum_%: string, Wind Speed_km/h: string, Visibility_km: string, Press_kPa: string, Weather: string]"
      ]
     },
     "execution_count": 34,
     "metadata": {},
     "output_type": "execute_result"
    }
   ],
   "source": [
    "d2.describe()"
   ]
  },
  {
   "cell_type": "code",
   "execution_count": 35,
   "id": "6d5b7716",
   "metadata": {},
   "outputs": [
    {
     "name": "stdout",
     "output_type": "stream",
     "text": [
      "+-------+-------------+------------------+------------------+------------------+-----------------+------------------+------------------+--------------------+\n",
      "|summary|    Date/Time|            Temp_C|  Dew Point Temp_C|         Rel Hum_%|  Wind Speed_km/h|     Visibility_km|         Press_kPa|             Weather|\n",
      "+-------+-------------+------------------+------------------+------------------+-----------------+------------------+------------------+--------------------+\n",
      "|  count|         8784|              8784|              8784|              8784|             8784|              8784|              8784|                8784|\n",
      "|   mean|         NULL|  8.79814435336981| 2.555293715847001| 67.43169398907104|14.94546903460838| 27.66444672131151|101.05162340619295|                NULL|\n",
      "| stddev|         NULL|11.687882769691262|10.883072319155803|16.918881470076624|8.688696079468853|12.622688245171489|0.8440047459486535|                NULL|\n",
      "|    min|1/1/2012 0:00|             -23.3|             -28.5|                18|                0|               0.2|             97.52|               Clear|\n",
      "|    max|9/9/2012 9:00|              33.0|              24.4|               100|               83|              48.3|            103.65|Thunderstorms,Rai...|\n",
      "+-------+-------------+------------------+------------------+------------------+-----------------+------------------+------------------+--------------------+\n",
      "\n"
     ]
    }
   ],
   "source": [
    "d2.describe().show()"
   ]
  },
  {
   "cell_type": "code",
   "execution_count": 36,
   "id": "b843b502",
   "metadata": {},
   "outputs": [
    {
     "data": {
      "text/plain": [
       "DataFrame[Date/Time: string, Temp_C: double, Dew Point Temp_C: double, Rel Hum_%: int, Wind Speed_km/h: int, Visibility_km: double, Press_kPa: double, Weather: string, Twice Temperature: double]"
      ]
     },
     "execution_count": 36,
     "metadata": {},
     "output_type": "execute_result"
    }
   ],
   "source": [
    "d2.withColumn('Twice Temperature',d2['Temp_C']*2)"
   ]
  },
  {
   "cell_type": "code",
   "execution_count": 38,
   "id": "4366bccd",
   "metadata": {},
   "outputs": [
    {
     "name": "stdout",
     "output_type": "stream",
     "text": [
      "+--------------+------+----------------+---------+---------------+-------------+---------+--------------------+-----------------+\n",
      "|     Date/Time|Temp_C|Dew Point Temp_C|Rel Hum_%|Wind Speed_km/h|Visibility_km|Press_kPa|             Weather|Twice Temperature|\n",
      "+--------------+------+----------------+---------+---------------+-------------+---------+--------------------+-----------------+\n",
      "| 1/1/2012 0:00|  -1.8|            -3.9|       86|              4|          8.0|   101.24|                 Fog|             -3.6|\n",
      "| 1/1/2012 1:00|  -1.8|            -3.7|       87|              4|          8.0|   101.24|                 Fog|             -3.6|\n",
      "| 1/1/2012 2:00|  -1.8|            -3.4|       89|              7|          4.0|   101.26|Freezing Drizzle,Fog|             -3.6|\n",
      "| 1/1/2012 3:00|  -1.5|            -3.2|       88|              6|          4.0|   101.27|Freezing Drizzle,Fog|             -3.0|\n",
      "| 1/1/2012 4:00|  -1.5|            -3.3|       88|              7|          4.8|   101.23|                 Fog|             -3.0|\n",
      "| 1/1/2012 5:00|  -1.4|            -3.3|       87|              9|          6.4|   101.27|                 Fog|             -2.8|\n",
      "| 1/1/2012 6:00|  -1.5|            -3.1|       89|              7|          6.4|   101.29|                 Fog|             -3.0|\n",
      "| 1/1/2012 7:00|  -1.4|            -3.6|       85|              7|          8.0|   101.26|                 Fog|             -2.8|\n",
      "| 1/1/2012 8:00|  -1.4|            -3.6|       85|              9|          8.0|   101.23|                 Fog|             -2.8|\n",
      "| 1/1/2012 9:00|  -1.3|            -3.1|       88|             15|          4.0|    101.2|                 Fog|             -2.6|\n",
      "|1/1/2012 10:00|  -1.0|            -2.3|       91|              9|          1.2|   101.15|                 Fog|             -2.0|\n",
      "|1/1/2012 11:00|  -0.5|            -2.1|       89|              7|          4.0|   100.98|                 Fog|             -1.0|\n",
      "|1/1/2012 12:00|  -0.2|            -2.0|       88|              9|          4.8|   100.79|                 Fog|             -0.4|\n",
      "|1/1/2012 13:00|   0.2|            -1.7|       87|             13|          4.8|   100.58|                 Fog|              0.4|\n",
      "|1/1/2012 14:00|   0.8|            -1.1|       87|             20|          4.8|   100.31|                 Fog|              1.6|\n",
      "|1/1/2012 15:00|   1.8|            -0.4|       85|             22|          6.4|   100.07|                 Fog|              3.6|\n",
      "|1/1/2012 16:00|   2.6|            -0.2|       82|             13|         12.9|    99.93|       Mostly Cloudy|              5.2|\n",
      "|1/1/2012 17:00|   3.0|             0.0|       81|             13|         16.1|    99.81|              Cloudy|              6.0|\n",
      "|1/1/2012 18:00|   3.8|             1.0|       82|             15|         12.9|    99.74|                Rain|              7.6|\n",
      "|1/1/2012 19:00|   3.1|             1.3|       88|             15|         12.9|    99.68|                Rain|              6.2|\n",
      "+--------------+------+----------------+---------+---------------+-------------+---------+--------------------+-----------------+\n",
      "only showing top 20 rows\n",
      "\n"
     ]
    }
   ],
   "source": [
    "d2.withColumn('Twice Temperature',d2['Temp_C']*2).show()"
   ]
  },
  {
   "cell_type": "code",
   "execution_count": 40,
   "id": "e78d849b",
   "metadata": {},
   "outputs": [
    {
     "name": "stdout",
     "output_type": "stream",
     "text": [
      "+--------------+------+----------------+---------+---------------+-------------+---------+--------------------+\n",
      "|     Date/Time|Temp_C|Dew Point Temp_C|Rel Hum_%|Wind Speed_km/h|Visibility_km|Press_kPa|             Weather|\n",
      "+--------------+------+----------------+---------+---------------+-------------+---------+--------------------+\n",
      "| 1/1/2012 0:00|  -1.8|            -3.9|       86|              4|          8.0|   101.24|                 Fog|\n",
      "| 1/1/2012 1:00|  -1.8|            -3.7|       87|              4|          8.0|   101.24|                 Fog|\n",
      "| 1/1/2012 2:00|  -1.8|            -3.4|       89|              7|          4.0|   101.26|Freezing Drizzle,Fog|\n",
      "| 1/1/2012 3:00|  -1.5|            -3.2|       88|              6|          4.0|   101.27|Freezing Drizzle,Fog|\n",
      "| 1/1/2012 4:00|  -1.5|            -3.3|       88|              7|          4.8|   101.23|                 Fog|\n",
      "| 1/1/2012 5:00|  -1.4|            -3.3|       87|              9|          6.4|   101.27|                 Fog|\n",
      "| 1/1/2012 6:00|  -1.5|            -3.1|       89|              7|          6.4|   101.29|                 Fog|\n",
      "| 1/1/2012 7:00|  -1.4|            -3.6|       85|              7|          8.0|   101.26|                 Fog|\n",
      "| 1/1/2012 8:00|  -1.4|            -3.6|       85|              9|          8.0|   101.23|                 Fog|\n",
      "| 1/1/2012 9:00|  -1.3|            -3.1|       88|             15|          4.0|    101.2|                 Fog|\n",
      "|1/1/2012 10:00|  -1.0|            -2.3|       91|              9|          1.2|   101.15|                 Fog|\n",
      "|1/1/2012 11:00|  -0.5|            -2.1|       89|              7|          4.0|   100.98|                 Fog|\n",
      "|1/1/2012 12:00|  -0.2|            -2.0|       88|              9|          4.8|   100.79|                 Fog|\n",
      "|1/1/2012 13:00|   0.2|            -1.7|       87|             13|          4.8|   100.58|                 Fog|\n",
      "|1/1/2012 14:00|   0.8|            -1.1|       87|             20|          4.8|   100.31|                 Fog|\n",
      "|1/1/2012 15:00|   1.8|            -0.4|       85|             22|          6.4|   100.07|                 Fog|\n",
      "|1/1/2012 16:00|   2.6|            -0.2|       82|             13|         12.9|    99.93|       Mostly Cloudy|\n",
      "|1/1/2012 17:00|   3.0|             0.0|       81|             13|         16.1|    99.81|              Cloudy|\n",
      "|1/1/2012 18:00|   3.8|             1.0|       82|             15|         12.9|    99.74|                Rain|\n",
      "|1/1/2012 19:00|   3.1|             1.3|       88|             15|         12.9|    99.68|                Rain|\n",
      "+--------------+------+----------------+---------+---------------+-------------+---------+--------------------+\n",
      "only showing top 20 rows\n",
      "\n"
     ]
    }
   ],
   "source": [
    "d2.drop('Twice Temperature').show()"
   ]
  },
  {
   "cell_type": "code",
   "execution_count": 41,
   "id": "15d21389",
   "metadata": {},
   "outputs": [
    {
     "name": "stdout",
     "output_type": "stream",
     "text": [
      "+--------------+-----------+----------------+---------+---------------+-------------+---------+--------------------+\n",
      "|     Date/Time|Temperature|Dew Point Temp_C|Rel Hum_%|Wind Speed_km/h|Visibility_km|Press_kPa|             Weather|\n",
      "+--------------+-----------+----------------+---------+---------------+-------------+---------+--------------------+\n",
      "| 1/1/2012 0:00|       -1.8|            -3.9|       86|              4|          8.0|   101.24|                 Fog|\n",
      "| 1/1/2012 1:00|       -1.8|            -3.7|       87|              4|          8.0|   101.24|                 Fog|\n",
      "| 1/1/2012 2:00|       -1.8|            -3.4|       89|              7|          4.0|   101.26|Freezing Drizzle,Fog|\n",
      "| 1/1/2012 3:00|       -1.5|            -3.2|       88|              6|          4.0|   101.27|Freezing Drizzle,Fog|\n",
      "| 1/1/2012 4:00|       -1.5|            -3.3|       88|              7|          4.8|   101.23|                 Fog|\n",
      "| 1/1/2012 5:00|       -1.4|            -3.3|       87|              9|          6.4|   101.27|                 Fog|\n",
      "| 1/1/2012 6:00|       -1.5|            -3.1|       89|              7|          6.4|   101.29|                 Fog|\n",
      "| 1/1/2012 7:00|       -1.4|            -3.6|       85|              7|          8.0|   101.26|                 Fog|\n",
      "| 1/1/2012 8:00|       -1.4|            -3.6|       85|              9|          8.0|   101.23|                 Fog|\n",
      "| 1/1/2012 9:00|       -1.3|            -3.1|       88|             15|          4.0|    101.2|                 Fog|\n",
      "|1/1/2012 10:00|       -1.0|            -2.3|       91|              9|          1.2|   101.15|                 Fog|\n",
      "|1/1/2012 11:00|       -0.5|            -2.1|       89|              7|          4.0|   100.98|                 Fog|\n",
      "|1/1/2012 12:00|       -0.2|            -2.0|       88|              9|          4.8|   100.79|                 Fog|\n",
      "|1/1/2012 13:00|        0.2|            -1.7|       87|             13|          4.8|   100.58|                 Fog|\n",
      "|1/1/2012 14:00|        0.8|            -1.1|       87|             20|          4.8|   100.31|                 Fog|\n",
      "|1/1/2012 15:00|        1.8|            -0.4|       85|             22|          6.4|   100.07|                 Fog|\n",
      "|1/1/2012 16:00|        2.6|            -0.2|       82|             13|         12.9|    99.93|       Mostly Cloudy|\n",
      "|1/1/2012 17:00|        3.0|             0.0|       81|             13|         16.1|    99.81|              Cloudy|\n",
      "|1/1/2012 18:00|        3.8|             1.0|       82|             15|         12.9|    99.74|                Rain|\n",
      "|1/1/2012 19:00|        3.1|             1.3|       88|             15|         12.9|    99.68|                Rain|\n",
      "+--------------+-----------+----------------+---------+---------------+-------------+---------+--------------------+\n",
      "only showing top 20 rows\n",
      "\n"
     ]
    }
   ],
   "source": [
    "d2.withColumnRenamed('Temp_C','Temperature').show()"
   ]
  },
  {
   "cell_type": "code",
   "execution_count": 42,
   "id": "d5652e74",
   "metadata": {},
   "outputs": [
    {
     "name": "stdout",
     "output_type": "stream",
     "text": [
      "+--------------+------+----------------+---------+---------------+-------------+---------+--------------------+\n",
      "|     Date/Time|Temp_C|Dew Point Temp_C|Rel Hum_%|Wind Speed_km/h|Visibility_km|Press_kPa|             Weather|\n",
      "+--------------+------+----------------+---------+---------------+-------------+---------+--------------------+\n",
      "| 1/1/2012 0:00|  -1.8|            -3.9|       86|              4|          8.0|   101.24|                 Fog|\n",
      "| 1/1/2012 1:00|  -1.8|            -3.7|       87|              4|          8.0|   101.24|                 Fog|\n",
      "| 1/1/2012 2:00|  -1.8|            -3.4|       89|              7|          4.0|   101.26|Freezing Drizzle,Fog|\n",
      "| 1/1/2012 3:00|  -1.5|            -3.2|       88|              6|          4.0|   101.27|Freezing Drizzle,Fog|\n",
      "| 1/1/2012 4:00|  -1.5|            -3.3|       88|              7|          4.8|   101.23|                 Fog|\n",
      "| 1/1/2012 5:00|  -1.4|            -3.3|       87|              9|          6.4|   101.27|                 Fog|\n",
      "| 1/1/2012 6:00|  -1.5|            -3.1|       89|              7|          6.4|   101.29|                 Fog|\n",
      "| 1/1/2012 7:00|  -1.4|            -3.6|       85|              7|          8.0|   101.26|                 Fog|\n",
      "| 1/1/2012 8:00|  -1.4|            -3.6|       85|              9|          8.0|   101.23|                 Fog|\n",
      "| 1/1/2012 9:00|  -1.3|            -3.1|       88|             15|          4.0|    101.2|                 Fog|\n",
      "|1/1/2012 10:00|  -1.0|            -2.3|       91|              9|          1.2|   101.15|                 Fog|\n",
      "|1/1/2012 11:00|  -0.5|            -2.1|       89|              7|          4.0|   100.98|                 Fog|\n",
      "|1/1/2012 12:00|  -0.2|            -2.0|       88|              9|          4.8|   100.79|                 Fog|\n",
      "|1/1/2012 13:00|   0.2|            -1.7|       87|             13|          4.8|   100.58|                 Fog|\n",
      "|1/1/2012 14:00|   0.8|            -1.1|       87|             20|          4.8|   100.31|                 Fog|\n",
      "|1/1/2012 15:00|   1.8|            -0.4|       85|             22|          6.4|   100.07|                 Fog|\n",
      "|1/1/2012 16:00|   2.6|            -0.2|       82|             13|         12.9|    99.93|       Mostly Cloudy|\n",
      "|1/1/2012 17:00|   3.0|             0.0|       81|             13|         16.1|    99.81|              Cloudy|\n",
      "|1/1/2012 18:00|   3.8|             1.0|       82|             15|         12.9|    99.74|                Rain|\n",
      "|1/1/2012 19:00|   3.1|             1.3|       88|             15|         12.9|    99.68|                Rain|\n",
      "+--------------+------+----------------+---------+---------------+-------------+---------+--------------------+\n",
      "only showing top 20 rows\n",
      "\n"
     ]
    }
   ],
   "source": [
    "d2.show()"
   ]
  },
  {
   "cell_type": "code",
   "execution_count": 43,
   "id": "6105d30e",
   "metadata": {},
   "outputs": [
    {
     "name": "stdout",
     "output_type": "stream",
     "text": [
      "+--------------+----------------+---------+---------------+-------------+---------+--------------------+\n",
      "|     Date/Time|Dew Point Temp_C|Rel Hum_%|Wind Speed_km/h|Visibility_km|Press_kPa|             Weather|\n",
      "+--------------+----------------+---------+---------------+-------------+---------+--------------------+\n",
      "| 1/1/2012 0:00|            -3.9|       86|              4|          8.0|   101.24|                 Fog|\n",
      "| 1/1/2012 1:00|            -3.7|       87|              4|          8.0|   101.24|                 Fog|\n",
      "| 1/1/2012 2:00|            -3.4|       89|              7|          4.0|   101.26|Freezing Drizzle,Fog|\n",
      "| 1/1/2012 3:00|            -3.2|       88|              6|          4.0|   101.27|Freezing Drizzle,Fog|\n",
      "| 1/1/2012 4:00|            -3.3|       88|              7|          4.8|   101.23|                 Fog|\n",
      "| 1/1/2012 5:00|            -3.3|       87|              9|          6.4|   101.27|                 Fog|\n",
      "| 1/1/2012 6:00|            -3.1|       89|              7|          6.4|   101.29|                 Fog|\n",
      "| 1/1/2012 7:00|            -3.6|       85|              7|          8.0|   101.26|                 Fog|\n",
      "| 1/1/2012 8:00|            -3.6|       85|              9|          8.0|   101.23|                 Fog|\n",
      "| 1/1/2012 9:00|            -3.1|       88|             15|          4.0|    101.2|                 Fog|\n",
      "|1/1/2012 10:00|            -2.3|       91|              9|          1.2|   101.15|                 Fog|\n",
      "|1/1/2012 11:00|            -2.1|       89|              7|          4.0|   100.98|                 Fog|\n",
      "|1/1/2012 12:00|            -2.0|       88|              9|          4.8|   100.79|                 Fog|\n",
      "|1/1/2012 13:00|            -1.7|       87|             13|          4.8|   100.58|                 Fog|\n",
      "|1/1/2012 14:00|            -1.1|       87|             20|          4.8|   100.31|                 Fog|\n",
      "|1/1/2012 15:00|            -0.4|       85|             22|          6.4|   100.07|                 Fog|\n",
      "|1/1/2012 16:00|            -0.2|       82|             13|         12.9|    99.93|       Mostly Cloudy|\n",
      "|1/1/2012 17:00|             0.0|       81|             13|         16.1|    99.81|              Cloudy|\n",
      "|1/1/2012 18:00|             1.0|       82|             15|         12.9|    99.74|                Rain|\n",
      "|1/1/2012 19:00|             1.3|       88|             15|         12.9|    99.68|                Rain|\n",
      "+--------------+----------------+---------+---------------+-------------+---------+--------------------+\n",
      "only showing top 20 rows\n",
      "\n"
     ]
    }
   ],
   "source": [
    "d2.drop('Temp_C').show()"
   ]
  },
  {
   "cell_type": "code",
   "execution_count": 44,
   "id": "1ce304d7",
   "metadata": {},
   "outputs": [],
   "source": [
    "#dropping nan values"
   ]
  },
  {
   "cell_type": "code",
   "execution_count": 45,
   "id": "f0018d1d",
   "metadata": {},
   "outputs": [
    {
     "name": "stdout",
     "output_type": "stream",
     "text": [
      "+--------------+------+----------------+---------+---------------+-------------+---------+--------------------+\n",
      "|     Date/Time|Temp_C|Dew Point Temp_C|Rel Hum_%|Wind Speed_km/h|Visibility_km|Press_kPa|             Weather|\n",
      "+--------------+------+----------------+---------+---------------+-------------+---------+--------------------+\n",
      "| 1/1/2012 0:00|  -1.8|            -3.9|       86|              4|          8.0|   101.24|                 Fog|\n",
      "| 1/1/2012 1:00|  -1.8|            -3.7|       87|              4|          8.0|   101.24|                 Fog|\n",
      "| 1/1/2012 2:00|  -1.8|            -3.4|       89|              7|          4.0|   101.26|Freezing Drizzle,Fog|\n",
      "| 1/1/2012 3:00|  -1.5|            -3.2|       88|              6|          4.0|   101.27|Freezing Drizzle,Fog|\n",
      "| 1/1/2012 4:00|  -1.5|            -3.3|       88|              7|          4.8|   101.23|                 Fog|\n",
      "| 1/1/2012 5:00|  -1.4|            -3.3|       87|              9|          6.4|   101.27|                 Fog|\n",
      "| 1/1/2012 6:00|  -1.5|            -3.1|       89|              7|          6.4|   101.29|                 Fog|\n",
      "| 1/1/2012 7:00|  -1.4|            -3.6|       85|              7|          8.0|   101.26|                 Fog|\n",
      "| 1/1/2012 8:00|  -1.4|            -3.6|       85|              9|          8.0|   101.23|                 Fog|\n",
      "| 1/1/2012 9:00|  -1.3|            -3.1|       88|             15|          4.0|    101.2|                 Fog|\n",
      "|1/1/2012 10:00|  -1.0|            -2.3|       91|              9|          1.2|   101.15|                 Fog|\n",
      "|1/1/2012 11:00|  -0.5|            -2.1|       89|              7|          4.0|   100.98|                 Fog|\n",
      "|1/1/2012 12:00|  -0.2|            -2.0|       88|              9|          4.8|   100.79|                 Fog|\n",
      "|1/1/2012 13:00|   0.2|            -1.7|       87|             13|          4.8|   100.58|                 Fog|\n",
      "|1/1/2012 14:00|   0.8|            -1.1|       87|             20|          4.8|   100.31|                 Fog|\n",
      "|1/1/2012 15:00|   1.8|            -0.4|       85|             22|          6.4|   100.07|                 Fog|\n",
      "|1/1/2012 16:00|   2.6|            -0.2|       82|             13|         12.9|    99.93|       Mostly Cloudy|\n",
      "|1/1/2012 17:00|   3.0|             0.0|       81|             13|         16.1|    99.81|              Cloudy|\n",
      "|1/1/2012 18:00|   3.8|             1.0|       82|             15|         12.9|    99.74|                Rain|\n",
      "|1/1/2012 19:00|   3.1|             1.3|       88|             15|         12.9|    99.68|                Rain|\n",
      "+--------------+------+----------------+---------+---------------+-------------+---------+--------------------+\n",
      "only showing top 20 rows\n",
      "\n"
     ]
    }
   ],
   "source": [
    "d2.na.drop().show() #any row with nan value is dropped"
   ]
  },
  {
   "cell_type": "code",
   "execution_count": 47,
   "id": "0513596b",
   "metadata": {
    "scrolled": true
   },
   "outputs": [
    {
     "name": "stdout",
     "output_type": "stream",
     "text": [
      "+--------------+------+----------------+---------+---------------+-------------+---------+--------------------+\n",
      "|     Date/Time|Temp_C|Dew Point Temp_C|Rel Hum_%|Wind Speed_km/h|Visibility_km|Press_kPa|             Weather|\n",
      "+--------------+------+----------------+---------+---------------+-------------+---------+--------------------+\n",
      "| 1/1/2012 0:00|  -1.8|            -3.9|       86|              4|          8.0|   101.24|                 Fog|\n",
      "| 1/1/2012 1:00|  -1.8|            -3.7|       87|              4|          8.0|   101.24|                 Fog|\n",
      "| 1/1/2012 2:00|  -1.8|            -3.4|       89|              7|          4.0|   101.26|Freezing Drizzle,Fog|\n",
      "| 1/1/2012 3:00|  -1.5|            -3.2|       88|              6|          4.0|   101.27|Freezing Drizzle,Fog|\n",
      "| 1/1/2012 4:00|  -1.5|            -3.3|       88|              7|          4.8|   101.23|                 Fog|\n",
      "| 1/1/2012 5:00|  -1.4|            -3.3|       87|              9|          6.4|   101.27|                 Fog|\n",
      "| 1/1/2012 6:00|  -1.5|            -3.1|       89|              7|          6.4|   101.29|                 Fog|\n",
      "| 1/1/2012 7:00|  -1.4|            -3.6|       85|              7|          8.0|   101.26|                 Fog|\n",
      "| 1/1/2012 8:00|  -1.4|            -3.6|       85|              9|          8.0|   101.23|                 Fog|\n",
      "| 1/1/2012 9:00|  -1.3|            -3.1|       88|             15|          4.0|    101.2|                 Fog|\n",
      "|1/1/2012 10:00|  -1.0|            -2.3|       91|              9|          1.2|   101.15|                 Fog|\n",
      "|1/1/2012 11:00|  -0.5|            -2.1|       89|              7|          4.0|   100.98|                 Fog|\n",
      "|1/1/2012 12:00|  -0.2|            -2.0|       88|              9|          4.8|   100.79|                 Fog|\n",
      "|1/1/2012 13:00|   0.2|            -1.7|       87|             13|          4.8|   100.58|                 Fog|\n",
      "|1/1/2012 14:00|   0.8|            -1.1|       87|             20|          4.8|   100.31|                 Fog|\n",
      "|1/1/2012 15:00|   1.8|            -0.4|       85|             22|          6.4|   100.07|                 Fog|\n",
      "|1/1/2012 16:00|   2.6|            -0.2|       82|             13|         12.9|    99.93|       Mostly Cloudy|\n",
      "|1/1/2012 17:00|   3.0|             0.0|       81|             13|         16.1|    99.81|              Cloudy|\n",
      "|1/1/2012 18:00|   3.8|             1.0|       82|             15|         12.9|    99.74|                Rain|\n",
      "|1/1/2012 19:00|   3.1|             1.3|       88|             15|         12.9|    99.68|                Rain|\n",
      "+--------------+------+----------------+---------+---------------+-------------+---------+--------------------+\n",
      "only showing top 20 rows\n",
      "\n"
     ]
    }
   ],
   "source": [
    "d2.na.drop(how='all').show()"
   ]
  },
  {
   "cell_type": "code",
   "execution_count": 48,
   "id": "4a21be94",
   "metadata": {},
   "outputs": [
    {
     "name": "stdout",
     "output_type": "stream",
     "text": [
      "+--------------+------+----------------+---------+---------------+-------------+---------+--------------------+\n",
      "|     Date/Time|Temp_C|Dew Point Temp_C|Rel Hum_%|Wind Speed_km/h|Visibility_km|Press_kPa|             Weather|\n",
      "+--------------+------+----------------+---------+---------------+-------------+---------+--------------------+\n",
      "| 1/1/2012 0:00|  -1.8|            -3.9|       86|              4|          8.0|   101.24|                 Fog|\n",
      "| 1/1/2012 1:00|  -1.8|            -3.7|       87|              4|          8.0|   101.24|                 Fog|\n",
      "| 1/1/2012 2:00|  -1.8|            -3.4|       89|              7|          4.0|   101.26|Freezing Drizzle,Fog|\n",
      "| 1/1/2012 3:00|  -1.5|            -3.2|       88|              6|          4.0|   101.27|Freezing Drizzle,Fog|\n",
      "| 1/1/2012 4:00|  -1.5|            -3.3|       88|              7|          4.8|   101.23|                 Fog|\n",
      "| 1/1/2012 5:00|  -1.4|            -3.3|       87|              9|          6.4|   101.27|                 Fog|\n",
      "| 1/1/2012 6:00|  -1.5|            -3.1|       89|              7|          6.4|   101.29|                 Fog|\n",
      "| 1/1/2012 7:00|  -1.4|            -3.6|       85|              7|          8.0|   101.26|                 Fog|\n",
      "| 1/1/2012 8:00|  -1.4|            -3.6|       85|              9|          8.0|   101.23|                 Fog|\n",
      "| 1/1/2012 9:00|  -1.3|            -3.1|       88|             15|          4.0|    101.2|                 Fog|\n",
      "|1/1/2012 10:00|  -1.0|            -2.3|       91|              9|          1.2|   101.15|                 Fog|\n",
      "|1/1/2012 11:00|  -0.5|            -2.1|       89|              7|          4.0|   100.98|                 Fog|\n",
      "|1/1/2012 12:00|  -0.2|            -2.0|       88|              9|          4.8|   100.79|                 Fog|\n",
      "|1/1/2012 13:00|   0.2|            -1.7|       87|             13|          4.8|   100.58|                 Fog|\n",
      "|1/1/2012 14:00|   0.8|            -1.1|       87|             20|          4.8|   100.31|                 Fog|\n",
      "|1/1/2012 15:00|   1.8|            -0.4|       85|             22|          6.4|   100.07|                 Fog|\n",
      "|1/1/2012 16:00|   2.6|            -0.2|       82|             13|         12.9|    99.93|       Mostly Cloudy|\n",
      "|1/1/2012 17:00|   3.0|             0.0|       81|             13|         16.1|    99.81|              Cloudy|\n",
      "|1/1/2012 18:00|   3.8|             1.0|       82|             15|         12.9|    99.74|                Rain|\n",
      "|1/1/2012 19:00|   3.1|             1.3|       88|             15|         12.9|    99.68|                Rain|\n",
      "+--------------+------+----------------+---------+---------------+-------------+---------+--------------------+\n",
      "only showing top 20 rows\n",
      "\n"
     ]
    }
   ],
   "source": [
    "d2.na.drop(how='all',thresh=2).show() #atleast 2 non num values must be there otherwise dropped"
   ]
  },
  {
   "cell_type": "code",
   "execution_count": 50,
   "id": "afb855a3",
   "metadata": {},
   "outputs": [
    {
     "name": "stdout",
     "output_type": "stream",
     "text": [
      "+--------------+------+----------------+---------+---------------+-------------+---------+--------------------+\n",
      "|     Date/Time|Temp_C|Dew Point Temp_C|Rel Hum_%|Wind Speed_km/h|Visibility_km|Press_kPa|             Weather|\n",
      "+--------------+------+----------------+---------+---------------+-------------+---------+--------------------+\n",
      "| 1/1/2012 0:00|  -1.8|            -3.9|       86|              4|          8.0|   101.24|                 Fog|\n",
      "| 1/1/2012 1:00|  -1.8|            -3.7|       87|              4|          8.0|   101.24|                 Fog|\n",
      "| 1/1/2012 2:00|  -1.8|            -3.4|       89|              7|          4.0|   101.26|Freezing Drizzle,Fog|\n",
      "| 1/1/2012 3:00|  -1.5|            -3.2|       88|              6|          4.0|   101.27|Freezing Drizzle,Fog|\n",
      "| 1/1/2012 4:00|  -1.5|            -3.3|       88|              7|          4.8|   101.23|                 Fog|\n",
      "| 1/1/2012 5:00|  -1.4|            -3.3|       87|              9|          6.4|   101.27|                 Fog|\n",
      "| 1/1/2012 6:00|  -1.5|            -3.1|       89|              7|          6.4|   101.29|                 Fog|\n",
      "| 1/1/2012 7:00|  -1.4|            -3.6|       85|              7|          8.0|   101.26|                 Fog|\n",
      "| 1/1/2012 8:00|  -1.4|            -3.6|       85|              9|          8.0|   101.23|                 Fog|\n",
      "| 1/1/2012 9:00|  -1.3|            -3.1|       88|             15|          4.0|    101.2|                 Fog|\n",
      "|1/1/2012 10:00|  -1.0|            -2.3|       91|              9|          1.2|   101.15|                 Fog|\n",
      "|1/1/2012 11:00|  -0.5|            -2.1|       89|              7|          4.0|   100.98|                 Fog|\n",
      "|1/1/2012 12:00|  -0.2|            -2.0|       88|              9|          4.8|   100.79|                 Fog|\n",
      "|1/1/2012 13:00|   0.2|            -1.7|       87|             13|          4.8|   100.58|                 Fog|\n",
      "|1/1/2012 14:00|   0.8|            -1.1|       87|             20|          4.8|   100.31|                 Fog|\n",
      "|1/1/2012 15:00|   1.8|            -0.4|       85|             22|          6.4|   100.07|                 Fog|\n",
      "|1/1/2012 16:00|   2.6|            -0.2|       82|             13|         12.9|    99.93|       Mostly Cloudy|\n",
      "|1/1/2012 17:00|   3.0|             0.0|       81|             13|         16.1|    99.81|              Cloudy|\n",
      "|1/1/2012 18:00|   3.8|             1.0|       82|             15|         12.9|    99.74|                Rain|\n",
      "|1/1/2012 19:00|   3.1|             1.3|       88|             15|         12.9|    99.68|                Rain|\n",
      "+--------------+------+----------------+---------+---------------+-------------+---------+--------------------+\n",
      "only showing top 20 rows\n",
      "\n"
     ]
    }
   ],
   "source": [
    "d2.na.drop(how='any',subset=['Temp_C']).show()"
   ]
  },
  {
   "cell_type": "code",
   "execution_count": 51,
   "id": "68d2e6c1",
   "metadata": {},
   "outputs": [],
   "source": [
    "#filling missing values"
   ]
  },
  {
   "cell_type": "code",
   "execution_count": 52,
   "id": "782f8e05",
   "metadata": {},
   "outputs": [
    {
     "name": "stdout",
     "output_type": "stream",
     "text": [
      "+--------------+------+----------------+---------+---------------+-------------+---------+--------------------+\n",
      "|     Date/Time|Temp_C|Dew Point Temp_C|Rel Hum_%|Wind Speed_km/h|Visibility_km|Press_kPa|             Weather|\n",
      "+--------------+------+----------------+---------+---------------+-------------+---------+--------------------+\n",
      "| 1/1/2012 0:00|  -1.8|            -3.9|       86|              4|          8.0|   101.24|                 Fog|\n",
      "| 1/1/2012 1:00|  -1.8|            -3.7|       87|              4|          8.0|   101.24|                 Fog|\n",
      "| 1/1/2012 2:00|  -1.8|            -3.4|       89|              7|          4.0|   101.26|Freezing Drizzle,Fog|\n",
      "| 1/1/2012 3:00|  -1.5|            -3.2|       88|              6|          4.0|   101.27|Freezing Drizzle,Fog|\n",
      "| 1/1/2012 4:00|  -1.5|            -3.3|       88|              7|          4.8|   101.23|                 Fog|\n",
      "| 1/1/2012 5:00|  -1.4|            -3.3|       87|              9|          6.4|   101.27|                 Fog|\n",
      "| 1/1/2012 6:00|  -1.5|            -3.1|       89|              7|          6.4|   101.29|                 Fog|\n",
      "| 1/1/2012 7:00|  -1.4|            -3.6|       85|              7|          8.0|   101.26|                 Fog|\n",
      "| 1/1/2012 8:00|  -1.4|            -3.6|       85|              9|          8.0|   101.23|                 Fog|\n",
      "| 1/1/2012 9:00|  -1.3|            -3.1|       88|             15|          4.0|    101.2|                 Fog|\n",
      "|1/1/2012 10:00|  -1.0|            -2.3|       91|              9|          1.2|   101.15|                 Fog|\n",
      "|1/1/2012 11:00|  -0.5|            -2.1|       89|              7|          4.0|   100.98|                 Fog|\n",
      "|1/1/2012 12:00|  -0.2|            -2.0|       88|              9|          4.8|   100.79|                 Fog|\n",
      "|1/1/2012 13:00|   0.2|            -1.7|       87|             13|          4.8|   100.58|                 Fog|\n",
      "|1/1/2012 14:00|   0.8|            -1.1|       87|             20|          4.8|   100.31|                 Fog|\n",
      "|1/1/2012 15:00|   1.8|            -0.4|       85|             22|          6.4|   100.07|                 Fog|\n",
      "|1/1/2012 16:00|   2.6|            -0.2|       82|             13|         12.9|    99.93|       Mostly Cloudy|\n",
      "|1/1/2012 17:00|   3.0|             0.0|       81|             13|         16.1|    99.81|              Cloudy|\n",
      "|1/1/2012 18:00|   3.8|             1.0|       82|             15|         12.9|    99.74|                Rain|\n",
      "|1/1/2012 19:00|   3.1|             1.3|       88|             15|         12.9|    99.68|                Rain|\n",
      "+--------------+------+----------------+---------+---------------+-------------+---------+--------------------+\n",
      "only showing top 20 rows\n",
      "\n"
     ]
    }
   ],
   "source": [
    "d2.na.fill('Missing Value').show()"
   ]
  },
  {
   "cell_type": "code",
   "execution_count": 54,
   "id": "a9582063",
   "metadata": {},
   "outputs": [
    {
     "name": "stdout",
     "output_type": "stream",
     "text": [
      "+--------------+------+----------------+---------+---------------+-------------+---------+--------------------+\n",
      "|     Date/Time|Temp_C|Dew Point Temp_C|Rel Hum_%|Wind Speed_km/h|Visibility_km|Press_kPa|             Weather|\n",
      "+--------------+------+----------------+---------+---------------+-------------+---------+--------------------+\n",
      "| 1/1/2012 0:00|  -1.8|            -3.9|       86|              4|          8.0|   101.24|                 Fog|\n",
      "| 1/1/2012 1:00|  -1.8|            -3.7|       87|              4|          8.0|   101.24|                 Fog|\n",
      "| 1/1/2012 2:00|  -1.8|            -3.4|       89|              7|          4.0|   101.26|Freezing Drizzle,Fog|\n",
      "| 1/1/2012 3:00|  -1.5|            -3.2|       88|              6|          4.0|   101.27|Freezing Drizzle,Fog|\n",
      "| 1/1/2012 4:00|  -1.5|            -3.3|       88|              7|          4.8|   101.23|                 Fog|\n",
      "| 1/1/2012 5:00|  -1.4|            -3.3|       87|              9|          6.4|   101.27|                 Fog|\n",
      "| 1/1/2012 6:00|  -1.5|            -3.1|       89|              7|          6.4|   101.29|                 Fog|\n",
      "| 1/1/2012 7:00|  -1.4|            -3.6|       85|              7|          8.0|   101.26|                 Fog|\n",
      "| 1/1/2012 8:00|  -1.4|            -3.6|       85|              9|          8.0|   101.23|                 Fog|\n",
      "| 1/1/2012 9:00|  -1.3|            -3.1|       88|             15|          4.0|    101.2|                 Fog|\n",
      "|1/1/2012 10:00|  -1.0|            -2.3|       91|              9|          1.2|   101.15|                 Fog|\n",
      "|1/1/2012 11:00|  -0.5|            -2.1|       89|              7|          4.0|   100.98|                 Fog|\n",
      "|1/1/2012 12:00|  -0.2|            -2.0|       88|              9|          4.8|   100.79|                 Fog|\n",
      "|1/1/2012 13:00|   0.2|            -1.7|       87|             13|          4.8|   100.58|                 Fog|\n",
      "|1/1/2012 14:00|   0.8|            -1.1|       87|             20|          4.8|   100.31|                 Fog|\n",
      "|1/1/2012 15:00|   1.8|            -0.4|       85|             22|          6.4|   100.07|                 Fog|\n",
      "|1/1/2012 16:00|   2.6|            -0.2|       82|             13|         12.9|    99.93|       Mostly Cloudy|\n",
      "|1/1/2012 17:00|   3.0|             0.0|       81|             13|         16.1|    99.81|              Cloudy|\n",
      "|1/1/2012 18:00|   3.8|             1.0|       82|             15|         12.9|    99.74|                Rain|\n",
      "|1/1/2012 19:00|   3.1|             1.3|       88|             15|         12.9|    99.68|                Rain|\n",
      "+--------------+------+----------------+---------+---------------+-------------+---------+--------------------+\n",
      "only showing top 20 rows\n",
      "\n"
     ]
    }
   ],
   "source": [
    "d2.na.fill('MV',subset=['Temp_C']).show()"
   ]
  },
  {
   "cell_type": "code",
   "execution_count": 55,
   "id": "81901c9f",
   "metadata": {},
   "outputs": [
    {
     "name": "stdout",
     "output_type": "stream",
     "text": [
      "+--------------+------+----------------+---------+---------------+-------------+---------+--------------------+\n",
      "|     Date/Time|Temp_C|Dew Point Temp_C|Rel Hum_%|Wind Speed_km/h|Visibility_km|Press_kPa|             Weather|\n",
      "+--------------+------+----------------+---------+---------------+-------------+---------+--------------------+\n",
      "| 1/1/2012 0:00|  -1.8|            -3.9|       86|              4|          8.0|   101.24|                 Fog|\n",
      "| 1/1/2012 1:00|  -1.8|            -3.7|       87|              4|          8.0|   101.24|                 Fog|\n",
      "| 1/1/2012 2:00|  -1.8|            -3.4|       89|              7|          4.0|   101.26|Freezing Drizzle,Fog|\n",
      "| 1/1/2012 3:00|  -1.5|            -3.2|       88|              6|          4.0|   101.27|Freezing Drizzle,Fog|\n",
      "| 1/1/2012 4:00|  -1.5|            -3.3|       88|              7|          4.8|   101.23|                 Fog|\n",
      "| 1/1/2012 5:00|  -1.4|            -3.3|       87|              9|          6.4|   101.27|                 Fog|\n",
      "| 1/1/2012 6:00|  -1.5|            -3.1|       89|              7|          6.4|   101.29|                 Fog|\n",
      "| 1/1/2012 7:00|  -1.4|            -3.6|       85|              7|          8.0|   101.26|                 Fog|\n",
      "| 1/1/2012 8:00|  -1.4|            -3.6|       85|              9|          8.0|   101.23|                 Fog|\n",
      "| 1/1/2012 9:00|  -1.3|            -3.1|       88|             15|          4.0|    101.2|                 Fog|\n",
      "|1/1/2012 10:00|  -1.0|            -2.3|       91|              9|          1.2|   101.15|                 Fog|\n",
      "|1/1/2012 11:00|  -0.5|            -2.1|       89|              7|          4.0|   100.98|                 Fog|\n",
      "|1/1/2012 12:00|  -0.2|            -2.0|       88|              9|          4.8|   100.79|                 Fog|\n",
      "|1/1/2012 13:00|   0.2|            -1.7|       87|             13|          4.8|   100.58|                 Fog|\n",
      "|1/1/2012 14:00|   0.8|            -1.1|       87|             20|          4.8|   100.31|                 Fog|\n",
      "|1/1/2012 15:00|   1.8|            -0.4|       85|             22|          6.4|   100.07|                 Fog|\n",
      "|1/1/2012 16:00|   2.6|            -0.2|       82|             13|         12.9|    99.93|       Mostly Cloudy|\n",
      "|1/1/2012 17:00|   3.0|             0.0|       81|             13|         16.1|    99.81|              Cloudy|\n",
      "|1/1/2012 18:00|   3.8|             1.0|       82|             15|         12.9|    99.74|                Rain|\n",
      "|1/1/2012 19:00|   3.1|             1.3|       88|             15|         12.9|    99.68|                Rain|\n",
      "+--------------+------+----------------+---------+---------------+-------------+---------+--------------------+\n",
      "only showing top 20 rows\n",
      "\n"
     ]
    }
   ],
   "source": [
    "d2.show()"
   ]
  },
  {
   "cell_type": "code",
   "execution_count": 56,
   "id": "f704f614",
   "metadata": {},
   "outputs": [],
   "source": [
    "from pyspark.ml.feature import Imputer"
   ]
  },
  {
   "cell_type": "code",
   "execution_count": 57,
   "id": "7577c595",
   "metadata": {},
   "outputs": [],
   "source": [
    "imp=Imputer(inputCols=['Temp_C','Dew Point Temp_C'],\n",
    "            outputCols=['{}_imputed'.format(c) for c in ['Temp_C','Dew Point_C']]\n",
    "           ).setStrategy('mean')"
   ]
  },
  {
   "cell_type": "code",
   "execution_count": 59,
   "id": "af00bf0a",
   "metadata": {},
   "outputs": [
    {
     "name": "stdout",
     "output_type": "stream",
     "text": [
      "+--------------+------+----------------+---------+---------------+-------------+---------+--------------------+--------------+-------------------+\n",
      "|     Date/Time|Temp_C|Dew Point Temp_C|Rel Hum_%|Wind Speed_km/h|Visibility_km|Press_kPa|             Weather|Temp_C_imputed|Dew Point_C_imputed|\n",
      "+--------------+------+----------------+---------+---------------+-------------+---------+--------------------+--------------+-------------------+\n",
      "| 1/1/2012 0:00|  -1.8|            -3.9|       86|              4|          8.0|   101.24|                 Fog|          -1.8|               -3.9|\n",
      "| 1/1/2012 1:00|  -1.8|            -3.7|       87|              4|          8.0|   101.24|                 Fog|          -1.8|               -3.7|\n",
      "| 1/1/2012 2:00|  -1.8|            -3.4|       89|              7|          4.0|   101.26|Freezing Drizzle,Fog|          -1.8|               -3.4|\n",
      "| 1/1/2012 3:00|  -1.5|            -3.2|       88|              6|          4.0|   101.27|Freezing Drizzle,Fog|          -1.5|               -3.2|\n",
      "| 1/1/2012 4:00|  -1.5|            -3.3|       88|              7|          4.8|   101.23|                 Fog|          -1.5|               -3.3|\n",
      "| 1/1/2012 5:00|  -1.4|            -3.3|       87|              9|          6.4|   101.27|                 Fog|          -1.4|               -3.3|\n",
      "| 1/1/2012 6:00|  -1.5|            -3.1|       89|              7|          6.4|   101.29|                 Fog|          -1.5|               -3.1|\n",
      "| 1/1/2012 7:00|  -1.4|            -3.6|       85|              7|          8.0|   101.26|                 Fog|          -1.4|               -3.6|\n",
      "| 1/1/2012 8:00|  -1.4|            -3.6|       85|              9|          8.0|   101.23|                 Fog|          -1.4|               -3.6|\n",
      "| 1/1/2012 9:00|  -1.3|            -3.1|       88|             15|          4.0|    101.2|                 Fog|          -1.3|               -3.1|\n",
      "|1/1/2012 10:00|  -1.0|            -2.3|       91|              9|          1.2|   101.15|                 Fog|          -1.0|               -2.3|\n",
      "|1/1/2012 11:00|  -0.5|            -2.1|       89|              7|          4.0|   100.98|                 Fog|          -0.5|               -2.1|\n",
      "|1/1/2012 12:00|  -0.2|            -2.0|       88|              9|          4.8|   100.79|                 Fog|          -0.2|               -2.0|\n",
      "|1/1/2012 13:00|   0.2|            -1.7|       87|             13|          4.8|   100.58|                 Fog|           0.2|               -1.7|\n",
      "|1/1/2012 14:00|   0.8|            -1.1|       87|             20|          4.8|   100.31|                 Fog|           0.8|               -1.1|\n",
      "|1/1/2012 15:00|   1.8|            -0.4|       85|             22|          6.4|   100.07|                 Fog|           1.8|               -0.4|\n",
      "|1/1/2012 16:00|   2.6|            -0.2|       82|             13|         12.9|    99.93|       Mostly Cloudy|           2.6|               -0.2|\n",
      "|1/1/2012 17:00|   3.0|             0.0|       81|             13|         16.1|    99.81|              Cloudy|           3.0|                0.0|\n",
      "|1/1/2012 18:00|   3.8|             1.0|       82|             15|         12.9|    99.74|                Rain|           3.8|                1.0|\n",
      "|1/1/2012 19:00|   3.1|             1.3|       88|             15|         12.9|    99.68|                Rain|           3.1|                1.3|\n",
      "+--------------+------+----------------+---------+---------------+-------------+---------+--------------------+--------------+-------------------+\n",
      "only showing top 20 rows\n",
      "\n"
     ]
    }
   ],
   "source": [
    "imp.fit(d2).transform(d2).show()"
   ]
  },
  {
   "cell_type": "code",
   "execution_count": 82,
   "id": "e0afedce",
   "metadata": {},
   "outputs": [],
   "source": [
    "#filter method-1"
   ]
  },
  {
   "cell_type": "code",
   "execution_count": 83,
   "id": "772eff3f",
   "metadata": {},
   "outputs": [
    {
     "name": "stdout",
     "output_type": "stream",
     "text": [
      "+--------------+------+----------------+---------+---------------+-------------+---------+-------------+\n",
      "|     Date/Time|Temp_C|Dew Point Temp_C|Rel Hum_%|Wind Speed_km/h|Visibility_km|Press_kPa|      Weather|\n",
      "+--------------+------+----------------+---------+---------------+-------------+---------+-------------+\n",
      "|1/1/2012 13:00|   0.2|            -1.7|       87|             13|          4.8|   100.58|          Fog|\n",
      "|1/1/2012 14:00|   0.8|            -1.1|       87|             20|          4.8|   100.31|          Fog|\n",
      "|1/1/2012 15:00|   1.8|            -0.4|       85|             22|          6.4|   100.07|          Fog|\n",
      "|1/1/2012 16:00|   2.6|            -0.2|       82|             13|         12.9|    99.93|Mostly Cloudy|\n",
      "|1/1/2012 17:00|   3.0|             0.0|       81|             13|         16.1|    99.81|       Cloudy|\n",
      "|1/1/2012 18:00|   3.8|             1.0|       82|             15|         12.9|    99.74|         Rain|\n",
      "|1/1/2012 19:00|   3.1|             1.3|       88|             15|         12.9|    99.68|         Rain|\n",
      "|1/1/2012 20:00|   3.2|             1.3|       87|             19|         25.0|     99.5|       Cloudy|\n",
      "|1/1/2012 21:00|   4.0|             1.7|       85|             20|         25.0|    99.39|       Cloudy|\n",
      "|1/1/2012 22:00|   4.4|             1.9|       84|             24|         19.3|    99.32| Rain Showers|\n",
      "|1/1/2012 23:00|   5.3|             2.0|       79|             30|         25.0|    99.31|       Cloudy|\n",
      "| 1/2/2012 0:00|   5.2|             1.5|       77|             35|         25.0|    99.26| Rain Showers|\n",
      "| 1/2/2012 1:00|   4.6|             0.0|       72|             39|         25.0|    99.26|       Cloudy|\n",
      "| 1/2/2012 2:00|   3.9|            -0.9|       71|             32|         25.0|    99.26|Mostly Cloudy|\n",
      "| 1/2/2012 3:00|   3.7|            -1.5|       69|             33|         25.0|     99.3|Mostly Cloudy|\n",
      "| 1/2/2012 4:00|   2.9|            -2.3|       69|             32|         25.0|    99.26|Mostly Cloudy|\n",
      "| 1/2/2012 5:00|   2.6|            -2.3|       70|             32|         25.0|    99.21|Mostly Cloudy|\n",
      "| 1/2/2012 6:00|   2.3|            -2.6|       70|             26|         25.0|    99.18|Mostly Cloudy|\n",
      "| 1/2/2012 7:00|   2.0|            -2.9|       70|             33|         25.0|    99.14|Mostly Cloudy|\n",
      "| 1/2/2012 8:00|   1.9|            -3.3|       68|             39|         24.1|    99.14|Mostly Cloudy|\n",
      "+--------------+------+----------------+---------+---------------+-------------+---------+-------------+\n",
      "only showing top 20 rows\n",
      "\n"
     ]
    }
   ],
   "source": [
    "d2.filter('Temp_C>0').show()"
   ]
  },
  {
   "cell_type": "code",
   "execution_count": 84,
   "id": "5076c53c",
   "metadata": {},
   "outputs": [
    {
     "name": "stdout",
     "output_type": "stream",
     "text": [
      "+----------------+\n",
      "|Dew Point Temp_C|\n",
      "+----------------+\n",
      "|            -1.7|\n",
      "|            -1.1|\n",
      "|            -0.4|\n",
      "|            -0.2|\n",
      "|             0.0|\n",
      "|             1.0|\n",
      "|             1.3|\n",
      "|             1.3|\n",
      "|             1.7|\n",
      "|             1.9|\n",
      "|             2.0|\n",
      "|             1.5|\n",
      "|             0.0|\n",
      "|            -0.9|\n",
      "|            -1.5|\n",
      "|            -2.3|\n",
      "|            -2.3|\n",
      "|            -2.6|\n",
      "|            -2.9|\n",
      "|            -3.3|\n",
      "+----------------+\n",
      "only showing top 20 rows\n",
      "\n"
     ]
    }
   ],
   "source": [
    "d2.filter('Temp_C>0').select(['Dew Point Temp_C']).show()"
   ]
  },
  {
   "cell_type": "code",
   "execution_count": 85,
   "id": "4b7285bd",
   "metadata": {},
   "outputs": [],
   "source": [
    "#filter method-2"
   ]
  },
  {
   "cell_type": "code",
   "execution_count": 86,
   "id": "621a1321",
   "metadata": {},
   "outputs": [
    {
     "name": "stdout",
     "output_type": "stream",
     "text": [
      "+--------------+------+----------------+---------+---------------+-------------+---------+-------------+\n",
      "|     Date/Time|Temp_C|Dew Point Temp_C|Rel Hum_%|Wind Speed_km/h|Visibility_km|Press_kPa|      Weather|\n",
      "+--------------+------+----------------+---------+---------------+-------------+---------+-------------+\n",
      "|1/1/2012 13:00|   0.2|            -1.7|       87|             13|          4.8|   100.58|          Fog|\n",
      "|1/1/2012 14:00|   0.8|            -1.1|       87|             20|          4.8|   100.31|          Fog|\n",
      "|1/1/2012 15:00|   1.8|            -0.4|       85|             22|          6.4|   100.07|          Fog|\n",
      "|1/1/2012 16:00|   2.6|            -0.2|       82|             13|         12.9|    99.93|Mostly Cloudy|\n",
      "|1/1/2012 17:00|   3.0|             0.0|       81|             13|         16.1|    99.81|       Cloudy|\n",
      "|1/1/2012 18:00|   3.8|             1.0|       82|             15|         12.9|    99.74|         Rain|\n",
      "|1/1/2012 19:00|   3.1|             1.3|       88|             15|         12.9|    99.68|         Rain|\n",
      "|1/1/2012 20:00|   3.2|             1.3|       87|             19|         25.0|     99.5|       Cloudy|\n",
      "|1/1/2012 21:00|   4.0|             1.7|       85|             20|         25.0|    99.39|       Cloudy|\n",
      "|1/1/2012 22:00|   4.4|             1.9|       84|             24|         19.3|    99.32| Rain Showers|\n",
      "|1/1/2012 23:00|   5.3|             2.0|       79|             30|         25.0|    99.31|       Cloudy|\n",
      "| 1/2/2012 0:00|   5.2|             1.5|       77|             35|         25.0|    99.26| Rain Showers|\n",
      "| 1/2/2012 1:00|   4.6|             0.0|       72|             39|         25.0|    99.26|       Cloudy|\n",
      "| 1/2/2012 2:00|   3.9|            -0.9|       71|             32|         25.0|    99.26|Mostly Cloudy|\n",
      "| 1/2/2012 3:00|   3.7|            -1.5|       69|             33|         25.0|     99.3|Mostly Cloudy|\n",
      "| 1/2/2012 4:00|   2.9|            -2.3|       69|             32|         25.0|    99.26|Mostly Cloudy|\n",
      "| 1/2/2012 5:00|   2.6|            -2.3|       70|             32|         25.0|    99.21|Mostly Cloudy|\n",
      "| 1/2/2012 6:00|   2.3|            -2.6|       70|             26|         25.0|    99.18|Mostly Cloudy|\n",
      "| 1/2/2012 7:00|   2.0|            -2.9|       70|             33|         25.0|    99.14|Mostly Cloudy|\n",
      "| 1/2/2012 8:00|   1.9|            -3.3|       68|             39|         24.1|    99.14|Mostly Cloudy|\n",
      "+--------------+------+----------------+---------+---------------+-------------+---------+-------------+\n",
      "only showing top 20 rows\n",
      "\n"
     ]
    }
   ],
   "source": [
    "d2.filter(d2['Temp_C']>0).show()"
   ]
  },
  {
   "cell_type": "code",
   "execution_count": 90,
   "id": "2679e01e",
   "metadata": {},
   "outputs": [
    {
     "name": "stdout",
     "output_type": "stream",
     "text": [
      "+----------------+\n",
      "|Dew Point Temp_C|\n",
      "+----------------+\n",
      "|            -1.7|\n",
      "|            -1.1|\n",
      "|            -0.4|\n",
      "|            -0.2|\n",
      "|             0.0|\n",
      "|             1.0|\n",
      "|             1.3|\n",
      "|             1.3|\n",
      "|             1.7|\n",
      "|             1.9|\n",
      "|             2.0|\n",
      "|             1.5|\n",
      "|             0.0|\n",
      "|            -0.9|\n",
      "|            -1.5|\n",
      "|            -2.3|\n",
      "|            -2.3|\n",
      "|            -2.6|\n",
      "|            -2.9|\n",
      "|            -3.3|\n",
      "+----------------+\n",
      "only showing top 20 rows\n",
      "\n"
     ]
    }
   ],
   "source": [
    "d2.filter(d2['Temp_C']>0).select('Dew Point Temp_C').show()"
   ]
  },
  {
   "cell_type": "code",
   "execution_count": 91,
   "id": "bca858d3",
   "metadata": {},
   "outputs": [],
   "source": [
    "# & | ~"
   ]
  },
  {
   "cell_type": "code",
   "execution_count": 95,
   "id": "de66fdbe",
   "metadata": {},
   "outputs": [
    {
     "name": "stdout",
     "output_type": "stream",
     "text": [
      "+--------------+------+----------------+---------+---------------+-------------+---------+-------------+\n",
      "|     Date/Time|Temp_C|Dew Point Temp_C|Rel Hum_%|Wind Speed_km/h|Visibility_km|Press_kPa|      Weather|\n",
      "+--------------+------+----------------+---------+---------------+-------------+---------+-------------+\n",
      "|1/1/2012 13:00|   0.2|            -1.7|       87|             13|          4.8|   100.58|          Fog|\n",
      "|1/1/2012 14:00|   0.8|            -1.1|       87|             20|          4.8|   100.31|          Fog|\n",
      "|1/1/2012 15:00|   1.8|            -0.4|       85|             22|          6.4|   100.07|          Fog|\n",
      "|1/1/2012 16:00|   2.6|            -0.2|       82|             13|         12.9|    99.93|Mostly Cloudy|\n",
      "| 1/2/2012 2:00|   3.9|            -0.9|       71|             32|         25.0|    99.26|Mostly Cloudy|\n",
      "| 1/2/2012 3:00|   3.7|            -1.5|       69|             33|         25.0|     99.3|Mostly Cloudy|\n",
      "| 1/2/2012 4:00|   2.9|            -2.3|       69|             32|         25.0|    99.26|Mostly Cloudy|\n",
      "| 1/2/2012 5:00|   2.6|            -2.3|       70|             32|         25.0|    99.21|Mostly Cloudy|\n",
      "| 1/2/2012 6:00|   2.3|            -2.6|       70|             26|         25.0|    99.18|Mostly Cloudy|\n",
      "| 1/2/2012 7:00|   2.0|            -2.9|       70|             33|         25.0|    99.14|Mostly Cloudy|\n",
      "| 1/2/2012 8:00|   1.9|            -3.3|       68|             39|         24.1|    99.14|Mostly Cloudy|\n",
      "| 1/2/2012 9:00|   1.8|            -3.7|       67|             44|         24.1|    99.14|Mostly Cloudy|\n",
      "|1/2/2012 10:00|   1.5|            -4.1|       66|             43|         24.1|    99.18|Mostly Cloudy|\n",
      "|1/2/2012 11:00|   2.2|            -3.5|       66|             30|         24.1|    99.19|Mostly Cloudy|\n",
      "|1/2/2012 12:00|   1.7|            -6.2|       56|             48|         24.1|    99.21| Mainly Clear|\n",
      "|1/2/2012 13:00|   1.1|            -6.5|       57|             37|         24.1|    99.27|Mostly Cloudy|\n",
      "|1/2/2012 14:00|   1.1|            -6.8|       56|             33|         24.1|    99.33|Mostly Cloudy|\n",
      "|1/7/2012 23:00|   0.4|            -1.5|       87|             22|          9.7|   100.62|         Snow|\n",
      "| 1/8/2012 0:00|   0.6|            -3.2|       76|             32|         25.0|   100.72|       Cloudy|\n",
      "|1/10/2012 0:00|   2.5|            -5.2|       57|             30|         25.0|   100.38|       Cloudy|\n",
      "+--------------+------+----------------+---------+---------------+-------------+---------+-------------+\n",
      "only showing top 20 rows\n",
      "\n"
     ]
    }
   ],
   "source": [
    "d2.filter((d2['Temp_C']>0) & (d2['Dew Point Temp_C']<0)).show()"
   ]
  },
  {
   "cell_type": "code",
   "execution_count": 96,
   "id": "f05384e8",
   "metadata": {},
   "outputs": [
    {
     "name": "stdout",
     "output_type": "stream",
     "text": [
      "+--------------+------+----------------+---------+---------------+-------------+---------+--------------------+\n",
      "|     Date/Time|Temp_C|Dew Point Temp_C|Rel Hum_%|Wind Speed_km/h|Visibility_km|Press_kPa|             Weather|\n",
      "+--------------+------+----------------+---------+---------------+-------------+---------+--------------------+\n",
      "| 1/1/2012 0:00|  -1.8|            -3.9|       86|              4|          8.0|   101.24|                 Fog|\n",
      "| 1/1/2012 1:00|  -1.8|            -3.7|       87|              4|          8.0|   101.24|                 Fog|\n",
      "| 1/1/2012 2:00|  -1.8|            -3.4|       89|              7|          4.0|   101.26|Freezing Drizzle,Fog|\n",
      "| 1/1/2012 3:00|  -1.5|            -3.2|       88|              6|          4.0|   101.27|Freezing Drizzle,Fog|\n",
      "| 1/1/2012 4:00|  -1.5|            -3.3|       88|              7|          4.8|   101.23|                 Fog|\n",
      "| 1/1/2012 5:00|  -1.4|            -3.3|       87|              9|          6.4|   101.27|                 Fog|\n",
      "| 1/1/2012 6:00|  -1.5|            -3.1|       89|              7|          6.4|   101.29|                 Fog|\n",
      "| 1/1/2012 7:00|  -1.4|            -3.6|       85|              7|          8.0|   101.26|                 Fog|\n",
      "| 1/1/2012 8:00|  -1.4|            -3.6|       85|              9|          8.0|   101.23|                 Fog|\n",
      "| 1/1/2012 9:00|  -1.3|            -3.1|       88|             15|          4.0|    101.2|                 Fog|\n",
      "|1/1/2012 10:00|  -1.0|            -2.3|       91|              9|          1.2|   101.15|                 Fog|\n",
      "|1/1/2012 11:00|  -0.5|            -2.1|       89|              7|          4.0|   100.98|                 Fog|\n",
      "|1/1/2012 12:00|  -0.2|            -2.0|       88|              9|          4.8|   100.79|                 Fog|\n",
      "|1/1/2012 13:00|   0.2|            -1.7|       87|             13|          4.8|   100.58|                 Fog|\n",
      "|1/1/2012 14:00|   0.8|            -1.1|       87|             20|          4.8|   100.31|                 Fog|\n",
      "|1/1/2012 15:00|   1.8|            -0.4|       85|             22|          6.4|   100.07|                 Fog|\n",
      "|1/1/2012 16:00|   2.6|            -0.2|       82|             13|         12.9|    99.93|       Mostly Cloudy|\n",
      "|1/1/2012 17:00|   3.0|             0.0|       81|             13|         16.1|    99.81|              Cloudy|\n",
      "|1/1/2012 18:00|   3.8|             1.0|       82|             15|         12.9|    99.74|                Rain|\n",
      "|1/1/2012 19:00|   3.1|             1.3|       88|             15|         12.9|    99.68|                Rain|\n",
      "+--------------+------+----------------+---------+---------------+-------------+---------+--------------------+\n",
      "only showing top 20 rows\n",
      "\n"
     ]
    }
   ],
   "source": [
    "d2.filter((d2['Temp_C']>0) | (d2['Dew Point Temp_C']<10)).show()"
   ]
  },
  {
   "cell_type": "code",
   "execution_count": 99,
   "id": "991c018b",
   "metadata": {},
   "outputs": [
    {
     "name": "stdout",
     "output_type": "stream",
     "text": [
      "+--------------+------+----------------+---------+---------------+-------------+---------+-------------+\n",
      "|     Date/Time|Temp_C|Dew Point Temp_C|Rel Hum_%|Wind Speed_km/h|Visibility_km|Press_kPa|      Weather|\n",
      "+--------------+------+----------------+---------+---------------+-------------+---------+-------------+\n",
      "|1/1/2012 13:00|   0.2|            -1.7|       87|             13|          4.8|   100.58|          Fog|\n",
      "|1/1/2012 14:00|   0.8|            -1.1|       87|             20|          4.8|   100.31|          Fog|\n",
      "|1/1/2012 15:00|   1.8|            -0.4|       85|             22|          6.4|   100.07|          Fog|\n",
      "|1/1/2012 16:00|   2.6|            -0.2|       82|             13|         12.9|    99.93|Mostly Cloudy|\n",
      "|1/1/2012 17:00|   3.0|             0.0|       81|             13|         16.1|    99.81|       Cloudy|\n",
      "|1/1/2012 18:00|   3.8|             1.0|       82|             15|         12.9|    99.74|         Rain|\n",
      "|1/1/2012 19:00|   3.1|             1.3|       88|             15|         12.9|    99.68|         Rain|\n",
      "|1/1/2012 20:00|   3.2|             1.3|       87|             19|         25.0|     99.5|       Cloudy|\n",
      "|1/1/2012 21:00|   4.0|             1.7|       85|             20|         25.0|    99.39|       Cloudy|\n",
      "|1/1/2012 22:00|   4.4|             1.9|       84|             24|         19.3|    99.32| Rain Showers|\n",
      "|1/1/2012 23:00|   5.3|             2.0|       79|             30|         25.0|    99.31|       Cloudy|\n",
      "| 1/2/2012 0:00|   5.2|             1.5|       77|             35|         25.0|    99.26| Rain Showers|\n",
      "| 1/2/2012 1:00|   4.6|             0.0|       72|             39|         25.0|    99.26|       Cloudy|\n",
      "| 1/2/2012 2:00|   3.9|            -0.9|       71|             32|         25.0|    99.26|Mostly Cloudy|\n",
      "| 1/2/2012 3:00|   3.7|            -1.5|       69|             33|         25.0|     99.3|Mostly Cloudy|\n",
      "| 1/2/2012 4:00|   2.9|            -2.3|       69|             32|         25.0|    99.26|Mostly Cloudy|\n",
      "| 1/2/2012 5:00|   2.6|            -2.3|       70|             32|         25.0|    99.21|Mostly Cloudy|\n",
      "| 1/2/2012 6:00|   2.3|            -2.6|       70|             26|         25.0|    99.18|Mostly Cloudy|\n",
      "| 1/2/2012 7:00|   2.0|            -2.9|       70|             33|         25.0|    99.14|Mostly Cloudy|\n",
      "| 1/2/2012 8:00|   1.9|            -3.3|       68|             39|         24.1|    99.14|Mostly Cloudy|\n",
      "+--------------+------+----------------+---------+---------------+-------------+---------+-------------+\n",
      "only showing top 20 rows\n",
      "\n"
     ]
    }
   ],
   "source": [
    "d2.filter(~(d2['Temp_C']<0)).show()"
   ]
  },
  {
   "cell_type": "code",
   "execution_count": 100,
   "id": "0a504220",
   "metadata": {},
   "outputs": [],
   "source": [
    "#groupby and aggregrate"
   ]
  },
  {
   "cell_type": "code",
   "execution_count": 102,
   "id": "4a435b9f",
   "metadata": {},
   "outputs": [
    {
     "name": "stdout",
     "output_type": "stream",
     "text": [
      "+--------------------+-----+\n",
      "|             Weather|count|\n",
      "+--------------------+-----+\n",
      "|        Mainly Clear| 2106|\n",
      "|              Cloudy| 1728|\n",
      "|  Thunderstorms,Rain|    3|\n",
      "|           Rain,Snow|   18|\n",
      "|Freezing Rain,Sno...|    1|\n",
      "|            Snow,Fog|   37|\n",
      "|Thunderstorms,Rai...|    1|\n",
      "|  Freezing Rain,Haze|    2|\n",
      "|Rain Showers,Snow...|    2|\n",
      "|Moderate Snow,Blo...|    2|\n",
      "|        Rain Showers|  188|\n",
      "|             Drizzle|   41|\n",
      "|        Snow Showers|   60|\n",
      "|                 Fog|  150|\n",
      "|               Clear| 1326|\n",
      "|    Drizzle,Snow,Fog|   15|\n",
      "|       Moderate Snow|    4|\n",
      "|Freezing Drizzle,Fog|    6|\n",
      "|         Drizzle,Fog|   80|\n",
      "|           Snow,Haze|    5|\n",
      "+--------------------+-----+\n",
      "only showing top 20 rows\n",
      "\n"
     ]
    }
   ],
   "source": [
    "d2.groupBy('Weather').count().show()"
   ]
  },
  {
   "cell_type": "code",
   "execution_count": 112,
   "id": "dbd88a27",
   "metadata": {},
   "outputs": [
    {
     "name": "stdout",
     "output_type": "stream",
     "text": [
      "+--------------------+-------------------+---------------------+------------------+--------------------+------------------+------------------+\n",
      "|             Weather|        avg(Temp_C)|avg(Dew Point Temp_C)|    avg(Rel Hum_%)|avg(Wind Speed_km/h)|avg(Visibility_km)|    avg(Press_kPa)|\n",
      "+--------------------+-------------------+---------------------+------------------+--------------------+------------------+------------------+\n",
      "|        Mainly Clear| 12.558926875593524|    4.581671415004745|60.667141500474834|  14.144824311490979| 34.26486229819613|101.24883190883172|\n",
      "|              Cloudy|  7.970543981481501|    2.375810185185185|  69.5925925925926|  16.127314814814813| 26.62575231481446|100.91144097222224|\n",
      "|  Thunderstorms,Rain| 20.433333333333334|   18.533333333333335|              89.0|  15.666666666666666|19.833333333333332|            100.42|\n",
      "|           Rain,Snow| 1.0555555555555556|  -0.5666666666666665|              89.0|   28.38888888888889|11.672222222222224|  99.9511111111111|\n",
      "|Freezing Rain,Sno...|               -5.0|                 -7.3|              84.0|                32.0|               4.8|             98.56|\n",
      "|            Snow,Fog| -5.075675675675676|   -6.364864864864866| 90.67567567567568|  17.324324324324323| 4.537837837837839|100.68864864864865|\n",
      "|Thunderstorms,Rai...|               20.6|                 18.6|              88.0|                19.0|               4.8|            100.08|\n",
      "|  Freezing Rain,Haze|               -4.9|                -7.45|              82.5|                 7.5|               2.4|           100.375|\n",
      "|Rain Showers,Snow...| 2.1500000000000004|                 -1.5|              76.5|                22.5|21.700000000000003|             101.1|\n",
      "|Moderate Snow,Blo...|              -5.45|                 -6.5|              92.5|                40.0|               0.6|            100.57|\n",
      "|        Rain Showers| 13.722340425531916|    9.187765957446809| 75.15957446808511|  17.132978723404257|22.816489361702118|100.40404255319149|\n",
      "|             Drizzle|  7.353658536585368|    5.504878048780488|  88.2439024390244|  16.097560975609756|17.931707317073176| 100.4353658536585|\n",
      "|        Snow Showers|-3.5066666666666677|   -7.866666666666669|             72.35|  19.233333333333334|20.158333333333328|100.96349999999998|\n",
      "|                 Fog|  4.303333333333334|    3.159333333333334| 92.28666666666666|   7.946666666666666| 6.248000000000002|101.18406666666665|\n",
      "|               Clear|  6.825716440422332|  0.08936651583710463| 64.49773755656109|  10.557315233785822| 30.15324283559567|101.58744343891397|\n",
      "|    Drizzle,Snow,Fog| 0.6933333333333334|  0.12000000000000001| 95.86666666666666|  15.533333333333333| 5.513333333333334| 99.28133333333334|\n",
      "|       Moderate Snow|             -5.525|   -7.249999999999999|             87.75|               33.75|              0.75|           100.275|\n",
      "|Freezing Drizzle,Fog|-2.5333333333333337|   -4.183333333333333|              88.5|                17.0| 5.266666666666667|100.44166666666666|\n",
      "|         Drizzle,Fog|  8.067500000000003|    7.033750000000002|            93.275|             11.8625|5.2574999999999985|100.78662499999997|\n",
      "|           Snow,Haze|-4.0200000000000005|   -6.860000000000001|              80.6|                 5.0|              4.64|100.78200000000001|\n",
      "+--------------------+-------------------+---------------------+------------------+--------------------+------------------+------------------+\n",
      "only showing top 20 rows\n",
      "\n"
     ]
    }
   ],
   "source": [
    "d2.groupBy('Weather').mean().show()"
   ]
  },
  {
   "cell_type": "code",
   "execution_count": 105,
   "id": "c359647f",
   "metadata": {},
   "outputs": [
    {
     "name": "stdout",
     "output_type": "stream",
     "text": [
      "+--------------+\n",
      "|count(Weather)|\n",
      "+--------------+\n",
      "|          8784|\n",
      "+--------------+\n",
      "\n"
     ]
    }
   ],
   "source": [
    "d2.agg({'Weather':'count'}).show()"
   ]
  },
  {
   "cell_type": "code",
   "execution_count": 109,
   "id": "c0dbb130",
   "metadata": {},
   "outputs": [
    {
     "name": "stdout",
     "output_type": "stream",
     "text": [
      "+--------------------+-----------+---------------------+--------------+--------------------+------------------+--------------+\n",
      "|             Weather|max(Temp_C)|max(Dew Point Temp_C)|max(Rel Hum_%)|max(Wind Speed_km/h)|max(Visibility_km)|max(Press_kPa)|\n",
      "+--------------------+-----------+---------------------+--------------+--------------------+------------------+--------------+\n",
      "|        Mainly Clear|       33.0|                 21.2|            99|                  63|              48.3|        103.59|\n",
      "|              Cloudy|       30.5|                 22.6|            99|                  54|              48.3|        103.65|\n",
      "|  Thunderstorms,Rain|       21.3|                 19.1|            93|                  30|              24.1|        100.83|\n",
      "|           Rain,Snow|        1.7|                  0.5|            94|                  52|              25.0|        101.07|\n",
      "|Freezing Rain,Sno...|       -5.0|                 -7.3|            84|                  32|               4.8|         98.56|\n",
      "|            Snow,Fog|        1.1|                  0.8|            99|                  35|               9.7|        102.07|\n",
      "|Thunderstorms,Rai...|       20.6|                 18.6|            88|                  19|               4.8|        100.08|\n",
      "|  Freezing Rain,Haze|       -4.9|                 -7.4|            83|                   9|               2.8|        100.41|\n",
      "|Rain Showers,Snow...|        2.2|                 -1.2|            78|                  28|              24.1|        101.11|\n",
      "|Moderate Snow,Blo...|       -5.4|                 -6.4|            93|                  41|               0.6|        100.64|\n",
      "|        Rain Showers|       26.4|                 23.0|            97|                  41|              48.3|        102.31|\n",
      "|             Drizzle|       18.8|                 17.7|            96|                  30|              25.0|        101.56|\n",
      "|        Snow Showers|        2.9|                 -0.7|            94|                  37|              48.3|         102.5|\n",
      "|                 Fog|       20.8|                 19.6|           100|                  22|               9.7|        103.04|\n",
      "|               Clear|       32.8|                 20.4|            99|                  33|              48.3|        103.63|\n",
      "|    Drizzle,Snow,Fog|        1.1|                  0.6|            98|                  32|               9.7|        100.15|\n",
      "|       Moderate Snow|       -4.9|                 -6.7|            93|                  39|               0.8|        100.67|\n",
      "|Freezing Drizzle,Fog|       -0.3|                 -2.3|            94|                  33|               8.0|        101.27|\n",
      "|         Drizzle,Fog|       19.9|                 19.1|           100|                  28|               9.7|        102.07|\n",
      "|           Snow,Haze|       -3.6|                 -6.4|            81|                  15|               6.4|        100.99|\n",
      "+--------------------+-----------+---------------------+--------------+--------------------+------------------+--------------+\n",
      "only showing top 20 rows\n",
      "\n"
     ]
    }
   ],
   "source": [
    "d2.groupBy('Weather').max().show()"
   ]
  },
  {
   "cell_type": "code",
   "execution_count": 113,
   "id": "2d4df7a0",
   "metadata": {},
   "outputs": [],
   "source": [
    "from pyspark.sql.functions import max"
   ]
  },
  {
   "cell_type": "code",
   "execution_count": 115,
   "id": "a4c76968",
   "metadata": {},
   "outputs": [
    {
     "name": "stdout",
     "output_type": "stream",
     "text": [
      "+--------------------+----------+\n",
      "|             Weather|Max_Temp_C|\n",
      "+--------------------+----------+\n",
      "|        Mainly Clear|      33.0|\n",
      "|              Cloudy|      30.5|\n",
      "|  Thunderstorms,Rain|      21.3|\n",
      "|           Rain,Snow|       1.7|\n",
      "|Freezing Rain,Sno...|      -5.0|\n",
      "|            Snow,Fog|       1.1|\n",
      "|Thunderstorms,Rai...|      20.6|\n",
      "|  Freezing Rain,Haze|      -4.9|\n",
      "|Rain Showers,Snow...|       2.2|\n",
      "|Moderate Snow,Blo...|      -5.4|\n",
      "|        Rain Showers|      26.4|\n",
      "|             Drizzle|      18.8|\n",
      "|        Snow Showers|       2.9|\n",
      "|                 Fog|      20.8|\n",
      "|               Clear|      32.8|\n",
      "|    Drizzle,Snow,Fog|       1.1|\n",
      "|       Moderate Snow|      -4.9|\n",
      "|Freezing Drizzle,Fog|      -0.3|\n",
      "|         Drizzle,Fog|      19.9|\n",
      "|           Snow,Haze|      -3.6|\n",
      "+--------------------+----------+\n",
      "only showing top 20 rows\n",
      "\n"
     ]
    }
   ],
   "source": [
    "d2.groupBy('Weather').agg(max('Temp_C').alias('Max_Temp_C')).show()"
   ]
  },
  {
   "cell_type": "code",
   "execution_count": null,
   "id": "75df35d6",
   "metadata": {},
   "outputs": [],
   "source": []
  }
 ],
 "metadata": {
  "kernelspec": {
   "display_name": "Python 3 (ipykernel)",
   "language": "python",
   "name": "python3"
  },
  "language_info": {
   "codemirror_mode": {
    "name": "ipython",
    "version": 3
   },
   "file_extension": ".py",
   "mimetype": "text/x-python",
   "name": "python",
   "nbconvert_exporter": "python",
   "pygments_lexer": "ipython3",
   "version": "3.10.9"
  }
 },
 "nbformat": 4,
 "nbformat_minor": 5
}
