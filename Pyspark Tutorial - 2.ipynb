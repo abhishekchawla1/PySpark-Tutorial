{
 "cells": [
  {
   "cell_type": "code",
   "execution_count": 1,
   "id": "1c439e49",
   "metadata": {},
   "outputs": [],
   "source": [
    "import pyspark"
   ]
  },
  {
   "cell_type": "code",
   "execution_count": 2,
   "id": "7a71ac38",
   "metadata": {},
   "outputs": [],
   "source": [
    "from pyspark.sql import SparkSession"
   ]
  },
  {
   "cell_type": "code",
   "execution_count": 3,
   "id": "ff2e5506",
   "metadata": {},
   "outputs": [],
   "source": [
    "spark=SparkSession.builder.appName('Machine_Learning').getOrCreate()"
   ]
  },
  {
   "cell_type": "code",
   "execution_count": 4,
   "id": "e1e04a58",
   "metadata": {},
   "outputs": [
    {
     "data": {
      "text/html": [
       "\n",
       "            <div>\n",
       "                <p><b>SparkSession - in-memory</b></p>\n",
       "                \n",
       "        <div>\n",
       "            <p><b>SparkContext</b></p>\n",
       "\n",
       "            <p><a href=\"http://Abhishek:4041\">Spark UI</a></p>\n",
       "\n",
       "            <dl>\n",
       "              <dt>Version</dt>\n",
       "                <dd><code>v3.5.1</code></dd>\n",
       "              <dt>Master</dt>\n",
       "                <dd><code>local[*]</code></dd>\n",
       "              <dt>AppName</dt>\n",
       "                <dd><code>Machine_Learning</code></dd>\n",
       "            </dl>\n",
       "        </div>\n",
       "        \n",
       "            </div>\n",
       "        "
      ],
      "text/plain": [
       "<pyspark.sql.session.SparkSession at 0x24cb7360d60>"
      ]
     },
     "execution_count": 4,
     "metadata": {},
     "output_type": "execute_result"
    }
   ],
   "source": [
    "spark"
   ]
  },
  {
   "cell_type": "code",
   "execution_count": 6,
   "id": "c9de80a9",
   "metadata": {},
   "outputs": [],
   "source": [
    "data=spark.read.option('header',True).csv(r\"G:\\datasets\\cars.csv\")"
   ]
  },
  {
   "cell_type": "code",
   "execution_count": 7,
   "id": "30ed9b49",
   "metadata": {},
   "outputs": [
    {
     "name": "stdout",
     "output_type": "stream",
     "text": [
      "+--------+---------+------+------------+-------------+\n",
      "|   brand|km_driven|  fuel|       owner|selling_price|\n",
      "+--------+---------+------+------------+-------------+\n",
      "|  Maruti|   145500|Diesel| First Owner|       450000|\n",
      "|   Skoda|   120000|Diesel|Second Owner|       370000|\n",
      "|   Honda|   140000|Petrol| Third Owner|       158000|\n",
      "| Hyundai|   127000|Diesel| First Owner|       225000|\n",
      "|  Maruti|   120000|Petrol| First Owner|       130000|\n",
      "| Hyundai|    45000|Petrol| First Owner|       440000|\n",
      "|  Maruti|   175000|   LPG| First Owner|        96000|\n",
      "|  Maruti|     5000|Petrol|Second Owner|        45000|\n",
      "|  Toyota|    90000|Diesel| First Owner|       350000|\n",
      "|    Ford|   169000|Diesel| First Owner|       200000|\n",
      "| Renault|    68000|Diesel|Second Owner|       500000|\n",
      "|  Maruti|   100000|Petrol|Second Owner|        92000|\n",
      "|  Maruti|   140000|Diesel|Second Owner|       280000|\n",
      "|  Maruti|    80000|Petrol|Second Owner|       200000|\n",
      "|  Maruti|    90000|Petrol|Second Owner|       180000|\n",
      "|Mahindra|    40000|Petrol| First Owner|       400000|\n",
      "|  Maruti|    70000|Diesel|Second Owner|       778000|\n",
      "| Hyundai|    53000|Diesel|Second Owner|       500000|\n",
      "|  Maruti|    80000|Petrol|Second Owner|       150000|\n",
      "| Hyundai|   100000|Diesel| First Owner|       680000|\n",
      "+--------+---------+------+------------+-------------+\n",
      "only showing top 20 rows\n",
      "\n"
     ]
    }
   ],
   "source": [
    "data.show()"
   ]
  },
  {
   "cell_type": "code",
   "execution_count": 8,
   "id": "85dc3778",
   "metadata": {},
   "outputs": [
    {
     "data": {
      "text/plain": [
       "[('brand', 'string'),\n",
       " ('km_driven', 'string'),\n",
       " ('fuel', 'string'),\n",
       " ('owner', 'string'),\n",
       " ('selling_price', 'string')]"
      ]
     },
     "execution_count": 8,
     "metadata": {},
     "output_type": "execute_result"
    }
   ],
   "source": [
    "data.dtypes"
   ]
  },
  {
   "cell_type": "code",
   "execution_count": 9,
   "id": "3d95d3e5",
   "metadata": {},
   "outputs": [],
   "source": [
    "data=spark.read.option('header',True).csv(r\"G:\\datasets\\cars.csv\",inferSchema=True)"
   ]
  },
  {
   "cell_type": "code",
   "execution_count": 10,
   "id": "9450c343",
   "metadata": {},
   "outputs": [
    {
     "name": "stdout",
     "output_type": "stream",
     "text": [
      "+--------+---------+------+------------+-------------+\n",
      "|   brand|km_driven|  fuel|       owner|selling_price|\n",
      "+--------+---------+------+------------+-------------+\n",
      "|  Maruti|   145500|Diesel| First Owner|       450000|\n",
      "|   Skoda|   120000|Diesel|Second Owner|       370000|\n",
      "|   Honda|   140000|Petrol| Third Owner|       158000|\n",
      "| Hyundai|   127000|Diesel| First Owner|       225000|\n",
      "|  Maruti|   120000|Petrol| First Owner|       130000|\n",
      "| Hyundai|    45000|Petrol| First Owner|       440000|\n",
      "|  Maruti|   175000|   LPG| First Owner|        96000|\n",
      "|  Maruti|     5000|Petrol|Second Owner|        45000|\n",
      "|  Toyota|    90000|Diesel| First Owner|       350000|\n",
      "|    Ford|   169000|Diesel| First Owner|       200000|\n",
      "| Renault|    68000|Diesel|Second Owner|       500000|\n",
      "|  Maruti|   100000|Petrol|Second Owner|        92000|\n",
      "|  Maruti|   140000|Diesel|Second Owner|       280000|\n",
      "|  Maruti|    80000|Petrol|Second Owner|       200000|\n",
      "|  Maruti|    90000|Petrol|Second Owner|       180000|\n",
      "|Mahindra|    40000|Petrol| First Owner|       400000|\n",
      "|  Maruti|    70000|Diesel|Second Owner|       778000|\n",
      "| Hyundai|    53000|Diesel|Second Owner|       500000|\n",
      "|  Maruti|    80000|Petrol|Second Owner|       150000|\n",
      "| Hyundai|   100000|Diesel| First Owner|       680000|\n",
      "+--------+---------+------+------------+-------------+\n",
      "only showing top 20 rows\n",
      "\n"
     ]
    }
   ],
   "source": [
    "data.show()"
   ]
  },
  {
   "cell_type": "code",
   "execution_count": 11,
   "id": "f6962114",
   "metadata": {},
   "outputs": [
    {
     "data": {
      "text/plain": [
       "[('brand', 'string'),\n",
       " ('km_driven', 'int'),\n",
       " ('fuel', 'string'),\n",
       " ('owner', 'string'),\n",
       " ('selling_price', 'int')]"
      ]
     },
     "execution_count": 11,
     "metadata": {},
     "output_type": "execute_result"
    }
   ],
   "source": [
    "data.dtypes"
   ]
  },
  {
   "cell_type": "code",
   "execution_count": 12,
   "id": "c58193eb",
   "metadata": {},
   "outputs": [
    {
     "name": "stdout",
     "output_type": "stream",
     "text": [
      "root\n",
      " |-- brand: string (nullable = true)\n",
      " |-- km_driven: integer (nullable = true)\n",
      " |-- fuel: string (nullable = true)\n",
      " |-- owner: string (nullable = true)\n",
      " |-- selling_price: integer (nullable = true)\n",
      "\n"
     ]
    }
   ],
   "source": [
    "data.printSchema()"
   ]
  },
  {
   "cell_type": "code",
   "execution_count": 13,
   "id": "61d10f1a",
   "metadata": {},
   "outputs": [
    {
     "data": {
      "text/plain": [
       "['brand', 'km_driven', 'fuel', 'owner', 'selling_price']"
      ]
     },
     "execution_count": 13,
     "metadata": {},
     "output_type": "execute_result"
    }
   ],
   "source": [
    "data.columns"
   ]
  },
  {
   "cell_type": "code",
   "execution_count": 16,
   "id": "394429b0",
   "metadata": {},
   "outputs": [],
   "source": [
    "from pyspark.ml.feature import StringIndexer "
   ]
  },
  {
   "cell_type": "code",
   "execution_count": 17,
   "id": "61d2f49e",
   "metadata": {},
   "outputs": [],
   "source": [
    "ind=StringIndexer(inputCol='brand',outputCol='brand_index')"
   ]
  },
  {
   "cell_type": "code",
   "execution_count": 18,
   "id": "a4866858",
   "metadata": {},
   "outputs": [],
   "source": [
    "ind2=StringIndexer(inputCol='fuel',outputCol='fuel_index')\n",
    "ind3=StringIndexer(inputCol='owner',outputCol='owner_index')"
   ]
  },
  {
   "cell_type": "code",
   "execution_count": 19,
   "id": "a1bc72a9",
   "metadata": {},
   "outputs": [],
   "source": [
    "data1=ind.fit(data).transform(data)\n",
    "data2=ind2.fit(data1).transform(data1)\n",
    "data_ind=ind3.fit(data2).transform(data2)"
   ]
  },
  {
   "cell_type": "code",
   "execution_count": 20,
   "id": "ea37c036",
   "metadata": {},
   "outputs": [
    {
     "name": "stdout",
     "output_type": "stream",
     "text": [
      "+--------+---------+------+------------+-------------+-----------+----------+-----------+\n",
      "|   brand|km_driven|  fuel|       owner|selling_price|brand_index|fuel_index|owner_index|\n",
      "+--------+---------+------+------------+-------------+-----------+----------+-----------+\n",
      "|  Maruti|   145500|Diesel| First Owner|       450000|        0.0|       0.0|        0.0|\n",
      "|   Skoda|   120000|Diesel|Second Owner|       370000|       11.0|       0.0|        1.0|\n",
      "|   Honda|   140000|Petrol| Third Owner|       158000|        5.0|       1.0|        2.0|\n",
      "| Hyundai|   127000|Diesel| First Owner|       225000|        1.0|       0.0|        0.0|\n",
      "|  Maruti|   120000|Petrol| First Owner|       130000|        0.0|       1.0|        0.0|\n",
      "| Hyundai|    45000|Petrol| First Owner|       440000|        1.0|       1.0|        0.0|\n",
      "|  Maruti|   175000|   LPG| First Owner|        96000|        0.0|       3.0|        0.0|\n",
      "|  Maruti|     5000|Petrol|Second Owner|        45000|        0.0|       1.0|        1.0|\n",
      "|  Toyota|    90000|Diesel| First Owner|       350000|        4.0|       0.0|        0.0|\n",
      "|    Ford|   169000|Diesel| First Owner|       200000|        6.0|       0.0|        0.0|\n",
      "| Renault|    68000|Diesel|Second Owner|       500000|        8.0|       0.0|        1.0|\n",
      "|  Maruti|   100000|Petrol|Second Owner|        92000|        0.0|       1.0|        1.0|\n",
      "|  Maruti|   140000|Diesel|Second Owner|       280000|        0.0|       0.0|        1.0|\n",
      "|  Maruti|    80000|Petrol|Second Owner|       200000|        0.0|       1.0|        1.0|\n",
      "|  Maruti|    90000|Petrol|Second Owner|       180000|        0.0|       1.0|        1.0|\n",
      "|Mahindra|    40000|Petrol| First Owner|       400000|        2.0|       1.0|        0.0|\n",
      "|  Maruti|    70000|Diesel|Second Owner|       778000|        0.0|       0.0|        1.0|\n",
      "| Hyundai|    53000|Diesel|Second Owner|       500000|        1.0|       0.0|        1.0|\n",
      "|  Maruti|    80000|Petrol|Second Owner|       150000|        0.0|       1.0|        1.0|\n",
      "| Hyundai|   100000|Diesel| First Owner|       680000|        1.0|       0.0|        0.0|\n",
      "+--------+---------+------+------------+-------------+-----------+----------+-----------+\n",
      "only showing top 20 rows\n",
      "\n"
     ]
    }
   ],
   "source": [
    "data_ind.show()"
   ]
  },
  {
   "cell_type": "code",
   "execution_count": 21,
   "id": "5387bf20",
   "metadata": {},
   "outputs": [],
   "source": [
    "from pyspark.ml.feature import VectorAssembler\n",
    "x=VectorAssembler(inputCols=['brand_index','km_driven','fuel_index','owner_index','selling_price'],outputCol='Independent Features')"
   ]
  },
  {
   "cell_type": "code",
   "execution_count": 22,
   "id": "013b7273",
   "metadata": {},
   "outputs": [],
   "source": [
    "df=x.transform(data_ind)"
   ]
  },
  {
   "cell_type": "code",
   "execution_count": 23,
   "id": "e1e75bed",
   "metadata": {},
   "outputs": [
    {
     "name": "stdout",
     "output_type": "stream",
     "text": [
      "+--------+---------+------+------------+-------------+-----------+----------+-----------+--------------------+\n",
      "|   brand|km_driven|  fuel|       owner|selling_price|brand_index|fuel_index|owner_index|Independent Features|\n",
      "+--------+---------+------+------------+-------------+-----------+----------+-----------+--------------------+\n",
      "|  Maruti|   145500|Diesel| First Owner|       450000|        0.0|       0.0|        0.0|(5,[1,4],[145500....|\n",
      "|   Skoda|   120000|Diesel|Second Owner|       370000|       11.0|       0.0|        1.0|[11.0,120000.0,0....|\n",
      "|   Honda|   140000|Petrol| Third Owner|       158000|        5.0|       1.0|        2.0|[5.0,140000.0,1.0...|\n",
      "| Hyundai|   127000|Diesel| First Owner|       225000|        1.0|       0.0|        0.0|[1.0,127000.0,0.0...|\n",
      "|  Maruti|   120000|Petrol| First Owner|       130000|        0.0|       1.0|        0.0|[0.0,120000.0,1.0...|\n",
      "| Hyundai|    45000|Petrol| First Owner|       440000|        1.0|       1.0|        0.0|[1.0,45000.0,1.0,...|\n",
      "|  Maruti|   175000|   LPG| First Owner|        96000|        0.0|       3.0|        0.0|[0.0,175000.0,3.0...|\n",
      "|  Maruti|     5000|Petrol|Second Owner|        45000|        0.0|       1.0|        1.0|[0.0,5000.0,1.0,1...|\n",
      "|  Toyota|    90000|Diesel| First Owner|       350000|        4.0|       0.0|        0.0|[4.0,90000.0,0.0,...|\n",
      "|    Ford|   169000|Diesel| First Owner|       200000|        6.0|       0.0|        0.0|[6.0,169000.0,0.0...|\n",
      "| Renault|    68000|Diesel|Second Owner|       500000|        8.0|       0.0|        1.0|[8.0,68000.0,0.0,...|\n",
      "|  Maruti|   100000|Petrol|Second Owner|        92000|        0.0|       1.0|        1.0|[0.0,100000.0,1.0...|\n",
      "|  Maruti|   140000|Diesel|Second Owner|       280000|        0.0|       0.0|        1.0|[0.0,140000.0,0.0...|\n",
      "|  Maruti|    80000|Petrol|Second Owner|       200000|        0.0|       1.0|        1.0|[0.0,80000.0,1.0,...|\n",
      "|  Maruti|    90000|Petrol|Second Owner|       180000|        0.0|       1.0|        1.0|[0.0,90000.0,1.0,...|\n",
      "|Mahindra|    40000|Petrol| First Owner|       400000|        2.0|       1.0|        0.0|[2.0,40000.0,1.0,...|\n",
      "|  Maruti|    70000|Diesel|Second Owner|       778000|        0.0|       0.0|        1.0|[0.0,70000.0,0.0,...|\n",
      "| Hyundai|    53000|Diesel|Second Owner|       500000|        1.0|       0.0|        1.0|[1.0,53000.0,0.0,...|\n",
      "|  Maruti|    80000|Petrol|Second Owner|       150000|        0.0|       1.0|        1.0|[0.0,80000.0,1.0,...|\n",
      "| Hyundai|   100000|Diesel| First Owner|       680000|        1.0|       0.0|        0.0|[1.0,100000.0,0.0...|\n",
      "+--------+---------+------+------------+-------------+-----------+----------+-----------+--------------------+\n",
      "only showing top 20 rows\n",
      "\n"
     ]
    }
   ],
   "source": [
    "df.show()"
   ]
  },
  {
   "cell_type": "code",
   "execution_count": 24,
   "id": "a1750aaf",
   "metadata": {},
   "outputs": [
    {
     "data": {
      "text/plain": [
       "['brand',\n",
       " 'km_driven',\n",
       " 'fuel',\n",
       " 'owner',\n",
       " 'selling_price',\n",
       " 'brand_index',\n",
       " 'fuel_index',\n",
       " 'owner_index',\n",
       " 'Independent Features']"
      ]
     },
     "execution_count": 24,
     "metadata": {},
     "output_type": "execute_result"
    }
   ],
   "source": [
    "df.columns"
   ]
  },
  {
   "cell_type": "code",
   "execution_count": 25,
   "id": "1320e5e5",
   "metadata": {},
   "outputs": [],
   "source": [
    "df_final=df.select(['Independent Features','selling_price'])"
   ]
  },
  {
   "cell_type": "code",
   "execution_count": 27,
   "id": "d9ac6293",
   "metadata": {},
   "outputs": [
    {
     "name": "stdout",
     "output_type": "stream",
     "text": [
      "+--------------------+-------------+\n",
      "|Independent Features|selling_price|\n",
      "+--------------------+-------------+\n",
      "|(5,[1,4],[145500....|       450000|\n",
      "|[11.0,120000.0,0....|       370000|\n",
      "|[5.0,140000.0,1.0...|       158000|\n",
      "|[1.0,127000.0,0.0...|       225000|\n",
      "|[0.0,120000.0,1.0...|       130000|\n",
      "|[1.0,45000.0,1.0,...|       440000|\n",
      "|[0.0,175000.0,3.0...|        96000|\n",
      "|[0.0,5000.0,1.0,1...|        45000|\n",
      "|[4.0,90000.0,0.0,...|       350000|\n",
      "|[6.0,169000.0,0.0...|       200000|\n",
      "|[8.0,68000.0,0.0,...|       500000|\n",
      "|[0.0,100000.0,1.0...|        92000|\n",
      "|[0.0,140000.0,0.0...|       280000|\n",
      "|[0.0,80000.0,1.0,...|       200000|\n",
      "|[0.0,90000.0,1.0,...|       180000|\n",
      "|[2.0,40000.0,1.0,...|       400000|\n",
      "|[0.0,70000.0,0.0,...|       778000|\n",
      "|[1.0,53000.0,0.0,...|       500000|\n",
      "|[0.0,80000.0,1.0,...|       150000|\n",
      "|[1.0,100000.0,0.0...|       680000|\n",
      "+--------------------+-------------+\n",
      "only showing top 20 rows\n",
      "\n"
     ]
    }
   ],
   "source": [
    "df_final.show()"
   ]
  },
  {
   "cell_type": "code",
   "execution_count": 29,
   "id": "a9f87401",
   "metadata": {},
   "outputs": [],
   "source": [
    "from pyspark.ml.regression import LinearRegression"
   ]
  },
  {
   "cell_type": "code",
   "execution_count": 31,
   "id": "94f0c501",
   "metadata": {},
   "outputs": [],
   "source": [
    "model=LinearRegression(featuresCol='Independent Features',labelCol='selling_price')"
   ]
  },
  {
   "cell_type": "code",
   "execution_count": 32,
   "id": "98182063",
   "metadata": {},
   "outputs": [],
   "source": [
    "train,test=df_final.randomSplit([0.75,0.25])"
   ]
  },
  {
   "cell_type": "code",
   "execution_count": 33,
   "id": "b0d1853d",
   "metadata": {},
   "outputs": [],
   "source": [
    "model=model.fit(train)"
   ]
  },
  {
   "cell_type": "code",
   "execution_count": 36,
   "id": "4cfe24ab",
   "metadata": {},
   "outputs": [
    {
     "data": {
      "text/plain": [
       "DenseVector([0.0, 0.0, 0.0, 0.0, 1.0])"
      ]
     },
     "execution_count": 36,
     "metadata": {},
     "output_type": "execute_result"
    }
   ],
   "source": [
    "model.coefficients"
   ]
  },
  {
   "cell_type": "code",
   "execution_count": 37,
   "id": "9626b6a7",
   "metadata": {},
   "outputs": [
    {
     "data": {
      "text/plain": [
       "0.0"
      ]
     },
     "execution_count": 37,
     "metadata": {},
     "output_type": "execute_result"
    }
   ],
   "source": [
    "model.intercept"
   ]
  },
  {
   "cell_type": "code",
   "execution_count": 38,
   "id": "c6ea6cca",
   "metadata": {},
   "outputs": [],
   "source": [
    "pred=model.evaluate(test)"
   ]
  },
  {
   "cell_type": "code",
   "execution_count": 39,
   "id": "3bc4b2cd",
   "metadata": {},
   "outputs": [
    {
     "name": "stdout",
     "output_type": "stream",
     "text": [
      "+--------------------+-------------+----------+\n",
      "|Independent Features|selling_price|prediction|\n",
      "+--------------------+-------------+----------+\n",
      "|(5,[1,4],[5000.0,...|       750000|  750000.0|\n",
      "|(5,[1,4],[10000.0...|       892000|  892000.0|\n",
      "|(5,[1,4],[14000.0...|       750000|  750000.0|\n",
      "|(5,[1,4],[14000.0...|      1200000| 1200000.0|\n",
      "|(5,[1,4],[15000.0...|       570000|  570000.0|\n",
      "|(5,[1,4],[15381.0...|       800000|  800000.0|\n",
      "|(5,[1,4],[20000.0...|       755000|  755000.0|\n",
      "|(5,[1,4],[20000.0...|       889000|  889000.0|\n",
      "|(5,[1,4],[24000.0...|       750000|  750000.0|\n",
      "|(5,[1,4],[24000.0...|       802999|  802999.0|\n",
      "|(5,[1,4],[24019.0...|       450000|  450000.0|\n",
      "|(5,[1,4],[25000.0...|       757000|  757000.0|\n",
      "|(5,[1,4],[25000.0...|       950000|  950000.0|\n",
      "|(5,[1,4],[29700.0...|       810000|  810000.0|\n",
      "|(5,[1,4],[30000.0...|       370000|  370000.0|\n",
      "|(5,[1,4],[30000.0...|       590000|  590000.0|\n",
      "|(5,[1,4],[30000.0...|       660000|  660000.0|\n",
      "|(5,[1,4],[30000.0...|       700000|  700000.0|\n",
      "|(5,[1,4],[30000.0...|       750000|  750000.0|\n",
      "|(5,[1,4],[30000.0...|       780000|  780000.0|\n",
      "+--------------------+-------------+----------+\n",
      "only showing top 20 rows\n",
      "\n"
     ]
    }
   ],
   "source": [
    "pred.predictions.show()"
   ]
  },
  {
   "cell_type": "code",
   "execution_count": 40,
   "id": "18ee62cf",
   "metadata": {},
   "outputs": [
    {
     "data": {
      "text/plain": [
       "0.0"
      ]
     },
     "execution_count": 40,
     "metadata": {},
     "output_type": "execute_result"
    }
   ],
   "source": [
    "pred.meanAbsoluteError"
   ]
  },
  {
   "cell_type": "code",
   "execution_count": 41,
   "id": "fd6ece11",
   "metadata": {},
   "outputs": [
    {
     "data": {
      "text/plain": [
       "0.0"
      ]
     },
     "execution_count": 41,
     "metadata": {},
     "output_type": "execute_result"
    }
   ],
   "source": [
    "pred.meanSquaredError"
   ]
  },
  {
   "cell_type": "code",
   "execution_count": null,
   "id": "bf6e5fc5",
   "metadata": {},
   "outputs": [],
   "source": []
  }
 ],
 "metadata": {
  "kernelspec": {
   "display_name": "Python 3 (ipykernel)",
   "language": "python",
   "name": "python3"
  },
  "language_info": {
   "codemirror_mode": {
    "name": "ipython",
    "version": 3
   },
   "file_extension": ".py",
   "mimetype": "text/x-python",
   "name": "python",
   "nbconvert_exporter": "python",
   "pygments_lexer": "ipython3",
   "version": "3.10.9"
  }
 },
 "nbformat": 4,
 "nbformat_minor": 5
}
